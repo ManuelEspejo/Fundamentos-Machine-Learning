{
 "cells": [
  {
   "cell_type": "markdown",
   "metadata": {},
   "source": [
    "[![Abrir en Colab](https://colab.research.google.com/assets/colab-badge.svg)](https://colab.research.google.com/github/ManuelEspejo/Machine-Learning-Bases/blob/main/notebooks/03_Aprendizaje-Por-Refuerzo.ipynb) 👈🏻​ **Pulsar para abrir en Colab​**\n",
    "\n",
    "# ¿Cómo usar estos notebooks?\n",
    "\n",
    "Si este es el primer notebook que abres en este repositorio, te recomiendo que antes leas el [Manual de uso de estos notebooks](https://github.com/ManuelEspejo/Machine-Learning-Bases/blob/main/docs/manual-notebooks.md) que he creado para que te familiarices con el proyecto y las distintas rutas que puedes seguir, luego puedes volver aquí y continuar.\n",
    "\n",
    "En este notebook, vamos a profundizar en el aprendizaje por refuerzo.\n",
    "\n",
    "Por otra parte, si aún no has revisado el notebook \"[00_Empieza-aquí.ipynb](https://github.com/ManuelEspejo/Machine-Learning-Bases/blob/main/notebooks/00_Empieza-aquí.ipynb)\", te sugiero que le eches un vistazo primero para conocer los conceptos básicos. Pero si ya tienes una idea clara de qué es el aprendizaje no supervisado y quieres verlo en acción, ¡estás en el lugar correcto!"
   ]
  },
  {
   "cell_type": "markdown",
   "metadata": {},
   "source": [
    "# 03. Aprendizaje por Refuerzo\n",
    "\n",
    "El Aprendizaje por Refuerzo (Reinforcement Learning, RL) es un tipo de Machine Learning donde el modelo (llamado **agente**) aprende a través de la experiencia en un entorno, intentando maximizar una recompensa acumulada a lo largo del tiempo.\n",
    "\n",
    "## ¿Por qué es importante?\n",
    "\n",
    "El RL es fundamental en la inteligencia artificial moderna porque nos permite resolver problemas en los que las decisiones se deben tomar secuencialmente y las consecuencias de una acción afectan el futuro. Algunos de los avances más emocionantes en IA han sido gracias al aprendizaje por refuerzo:\n",
    "\n",
    "- **Inteligencias artificiales campeonas en juegos:** Desde el mítico [AlphaGo](https://en.wikipedia.org/wiki/AlphaGo) que venció a los mejores jugadores de Go, hasta bots que dominan videojuegos como [Dota 2](https://arxiv.org/abs/1912.06680) o [StarCraft](https://deepmind.google/discover/blog/alphastar-grandmaster-level-in-starcraft-ii-using-multi-agent-reinforcement-learning/).\n",
    "- **Robótica avanzada:** Robots que aprenden a caminar, volar o ensamblar piezas en fábricas sin un manual de instrucciones.\n",
    "- **Toma de decisiones autónoma:** Algoritmos que optimizan inversiones, rutas de transporte o sistemas energéticos en tiempo real.\n",
    "- **Ciencia y descubrimiento:** Sistemas que diseñan medicamentos, exploran galaxias o incluso controlan experimentos científicos.\n",
    "\n",
    "En esencia, el RL se utiliza cuando necesitamos que una máquina aprende a actuar en un entorno complejo y dinámico, en el que no hay una solución clara de antemano.\n",
    "\n",
    "## ¿Qué vamos a ver?\n",
    "\n",
    "En este notebook, vamos a explorar el aprendizaje por refuerzo desde sus fundamentos hasta su implementación práctica. El objetivo es que puedas comprender no solo cómo funciona, sino también por qué es tan poderoso.\n",
    "\n",
    "Al final de este notebook, entenderás:\n",
    "\n",
    "- **Los fundamentos del RL**, incluyendo conceptos clave como agente, entorno, recompensa y política.\n",
    "- **Cómo funciona un agente RL**, su interacción con el entorno y cómo aprende para maximizar una recompensa acumulada.\n",
    "- **Cómo implementar un modelo RL desde cero**, aplicándolo al clásico problema de [CartPole](https://www.gymlibrary.dev/environments/classic_control/cart_pole/).\n",
    "- **Cómo aplicar RL a diferentes disciplinas**, como negocios, videojuegos, robótica y más.\n",
    "\n",
    "**¿Listo para empezar a explorar el fascinante mundo del aprendizaje por refuerzo?**\n",
    "\n",
    "**¡Empecemos!🚀**"
   ]
  },
  {
   "cell_type": "markdown",
   "metadata": {},
   "source": [
    "# Índice de Contenidos\n",
    "\n",
    "```\n",
    "1. Fundamentos del Aprendizaje por Refuerzo\n",
    "   1.1. Componentes clave del RL  \n",
    "      1.1.1. Agente, entorno y recompensa  \n",
    "      1.1.2. Política, función de valor y función Q  \n",
    "   1.2. Exploración vs. explotación: el equilibrio perfecto  \n",
    "2. Tabular Q-Learning: Un primer paso práctico\n",
    "   2.1. Descripción del problema: un agente en una cuadrícula  \n",
    "   2.2. Configuración del entorno  \n",
    "   2.3. Implementación del algoritmo Tabular Q-Learning  \n",
    "      2.3.1. Inicialización de la tabla Q  \n",
    "      2.3.2. Actualización de valores Q   \n",
    "   2.4. Visualización del aprendizaje del agente\n",
    "3. OpenAI Gym y el problema de CartPole\n",
    "   3.1. Introducción a OpenAI Gym  \n",
    "   3.2. Configuración del entorno CartPole  \n",
    "   3.3. Implementación de Q-Learning en CartPole  \n",
    "      3.3.1. Entrenamiento del agente  \n",
    "      3.3.2. Visualización del progreso del agente  \n",
    "   3.4. Análisis de resultados y reflexiones  \n",
    "4. Conclusión\n",
    "```\n"
   ]
  },
  {
   "cell_type": "code",
   "execution_count": 1,
   "metadata": {},
   "outputs": [],
   "source": [
    "import os\n",
    "import sys\n",
    "\n",
    "# Configuraciones\n",
    "# Detectar si estamos en Colab\n",
    "in_colab = 'google.colab' in str(get_ipython())\n",
    "\n",
    "if in_colab:\n",
    "    # Descargar el archivo visualizations.py desde el repositorio de GitHub\n",
    "    !mkdir -p /content/utils # Creamos una carpeta utils para que coincida con la estructura del repositorio\n",
    "    !wget -O utils/visualizations.py \"https://raw.githubusercontent.com/ManuelEspejo/Machine-Learning-Bases/main/utils/visualizations.py\"\n",
    "    data_dir = '/content/data' # Ruta de los datos\n",
    "else:\n",
    "    # Agregar el directorio raíz al path de Python (Para ejecutar en local)\n",
    "    notebook_dir = os.path.dirname(os.path.abspath('__file__'))\n",
    "    project_dir = os.path.dirname(notebook_dir)\n",
    "    sys.path.append(project_dir)\n",
    "    data_dir = '../data/raw'"
   ]
  },
  {
   "cell_type": "code",
   "execution_count": 2,
   "metadata": {},
   "outputs": [],
   "source": [
    "# Importaciones\n",
    "\n",
    "import numpy as np\n",
    "import gymnasium as gym\n",
    "from IPython import display # noqa: E402\n",
    "from PIL import Image\n",
    "import matplotlib.pyplot as plt\n",
    "from utils.visualizations import *  # noqa: F403"
   ]
  },
  {
   "cell_type": "markdown",
   "metadata": {},
   "source": [
    "## 1.1. Componentes clave del RL\n",
    "\n",
    "En este apartado, vamos a desglosar los componentes clave del RL para entender bien cómo podemos aplicarlos a nuestros problemas."
   ]
  },
  {
   "cell_type": "markdown",
   "metadata": {},
   "source": [
    "### 1.1.1. Agente, entorno y recompensa\n",
    "\n",
    "En el corazón del RL, tenemos tres actores principales:\n",
    "\n",
    "#### 🧑‍🚀 Agente\n",
    "\n",
    "El agente es el protagonista de nuestra historia. Es la entidad que toma decisiones, explora el mundo y aprende de sus errores. En un videojuego, el agente sería tu personaje controlado. En un robot, el agente sería el sistema que decide cómo moverse.\n",
    "\n",
    "- **Pregunta clave que se hace el agente**: ¿Qué acción debo tomar ahora?\n",
    "\n",
    "#### 🌍 Entorno\n",
    "\n",
    "El entorno es el mundo donde el agente vive y actúa. Define las reglas del juego y las consecuencias de cada acción. Es como el tablero de un juego de mesa: puede ser un simple tablero 2D o un mundo complejo como el universo de Minecraft.\n",
    "\n",
    "- **Pregunta clave que se hace el agente**: ¿Cómo responde el mundo a mis acciones?\n",
    "\n",
    "#### 🏆 Recompensa\n",
    "\n",
    "La recompensa es el \"premio\" que el agente obtiene después de tomar una acción en el entorno. Es lo que lo motiva a actuar de cierta manera. En un videojuego, la recompensa podría ser un punto extra por recoger una moneda. En un agente de bolsa,la recompensa podría ser la ganancia neta después de una transacción.\n",
    "\n",
    "- **Pregunta clave que se hace el agente**: ¿Fue buena mi acción?\n",
    "\n",
    "Las recompensas son lo que determinan cómo el agente ajusta su comportamiento con el tiempo. El agente básicamente vive para maximizar sus recompensas acumuladas, es su propósito vital. Según la situación, podemos encontrar los siguientes escenarios de recompensa:\n",
    "\n",
    "- **Recompensa positiva**: La acción tomada fue buena. El agente recibe un premio.\n",
    "  - *Ejemplo*: Un dron recibe +1 por cada segundo que se mantiene volando hacia el objetivo.\n",
    "\n",
    "- **Recompensa negativa**: La acción tomada fue mala. El agente recibe una penalización.\n",
    "  - *Ejemplo*: Si el dron choca contra una pared, recibe una penalización de -10.\n",
    "\n",
    "- **Recompensa nula**: La acción tomada no tiene consecuencias inmediatas. No es ideal, pero tampoco perjudica al agente.\n",
    "  - *Ejemplo*: El dron empieza a volar en círculos sin progresar hacia el objetivo.\n",
    "\n",
    "#### Escenarios controlados: Evitar la destruccion del mundo\n",
    "\n",
    "Como habrás imaginado, no siempre podemos permitir que el agente practique en el mundo real. Imagina un agente aprendiendo a volar un avión a base de prueba y error. ¿Qué podría salir mal? O que un agente practicando cirugías a corazón abierto con pacientes reales. No, gracias🙂‍↔️​.\n",
    "\n",
    "Para evitar el caos (y salvar el mundo), utilizamos simuladores de mundos controlados. Estos entornos simulan de manera segura la realidad, permitiendo que el agente practique, falle y aprende sin causar daños en el mundo real.\n",
    "\n",
    "¡Ojo!, esto no sólo aplica a los agentes; los humanos también necesitamos simuladores o entornos controlados para practicar, especialmente en actividades complejas como la conducción o la cirugía. La diferencia es que un agente descontrolado puede tener un potencial de destrucción mucho mayor (y no se detiene a reflexionar sobre sus errores como nosotros)."
   ]
  },
  {
   "cell_type": "markdown",
   "metadata": {},
   "source": [
    "### 1.1.2. Política, función de valor y función Q\n",
    "\n",
    "Ahora que tenemos claro quién es quién, pasemos a los conceptos que guían el aprendizaje del agente:\n",
    "\n",
    "#### 🎯 Política\n",
    "\n",
    "La política es como el \"cerebro\" del agente. Define qué acción tomar en cada situación. Puede ser algo tan simple como una tabla de consulta o tan complejo como una red neuronal.\n",
    "\n",
    "- **Ejemplo:** Si el dron está cerca de una pared, la política podría ser: \"Girar a la izquierda para evitarla\".\n",
    "\n",
    "#### 💎 Función de valor\n",
    "\n",
    "La función de valor le dice al agente qué tan bueno es estar en un estado específico. Es como si el agente tuviera un mapa que indica qué lugares son seguros y cuáles no.\n",
    "\n",
    "- **Ejemplo:** En el caso del dron, un estado cerca de una pared podría tener un valor bajo (peligroso), mientras que un estado en el centro de la habitación tiene un valor alto (seguro).\n",
    "\n",
    "#### 🔢 Función Q\n",
    "\n",
    "La función Q es un nivel más avanzado: no solo evalúa los estados, sino las acciones dentro de esos estados. Es decir, ayuda al agente a decidir cuál acción específica maximizará la recompensa.\n",
    "\n",
    "- **Ejemplo:** Si el dron está en una esquina, la función Q le diría: \"Girando a la derecha tendrás una mejor recompensa que avanzando hacia adelante\".\n",
    "\n",
    "\n",
    "#### Analogía: En busca del tesoro\n",
    "\n",
    "Piensa en un explorador en un bosque. La política es su instinto para decidir si gira a la izquierda o a la derecha. La función de valor es el mapa que usa para saber qué tan lejos está del tesoro. La función Q combina ambos: \"Si tomo este camino, ¿qué tan rápido llegaré al tesoro?\"\n"
   ]
  },
  {
   "cell_type": "markdown",
   "metadata": {},
   "source": [
    "## 1.2. Exploración vs. explotación: el equilibrio perfecto\n",
    "\n",
    "En el aprendizaje por refuerzo encontramos un desafío fundamental: **¿cuándo explorar y cuándo explotar?**\n",
    "\n",
    "Para que un agente aprenda de manera eficiente, necesita encontrar el equilibrio perfecto entre estas dos estrategias:\n",
    "\n",
    "### Exploración\n",
    "\n",
    "La exploración consiste en probar nuevas acciones para descubrir más sobre el entorno, incluso si no garantizan una recompensa inmediata. Es como ser un aventurero que se adentra en territorios desconocidos, con la esperanza de encontrar algo valioso.\n",
    "\n",
    "- **Ventaja**: Puede descubrir estrategias o recompensas que no eran evidentes antes.\n",
    "- **Desventaja**: Puede tomar decisiones subóptimas en el corto plazo, lo que reduce las recompensas inmediatas.\n",
    "- **Ejemplo**: Un robot que explora una nueva habitación podría intentar atravesar una puerta que no había detectado antes, descubriendo un camino más corto hacia su objetivo.\n",
    "\n",
    "### Explotación\n",
    "\n",
    "La explotación significa usar el conocimiento actual para maximizar las recompensas, eligiendo las acciones que ya sabe que funcionan. Es como ir a tu restaurante favorito y pedir ese plato que nunca te falla. ¿Por qué arriesgarse, verdad?\n",
    "\n",
    "- **Ventaja**: Asegura recompensas constantes y predecibles.\n",
    "- **Desventaja**: Limita el descubrimiento de estrategias potencialmente mejores.\n",
    "- **Ejemplo**: El robot, en lugar de explorar nuevas puertas, siempre usa un camino conocido para llegar a su destino, aunque podría no ser el más eficiente.\n",
    "\n",
    "### ¿Cómo encontrar el equilibrio?\n",
    "\n",
    "La clave está en balancear ambas estrategias. Un agente que solo explora nunca aprovecha lo que ha aprendido, mientras que uno que solo explota se queda atascado en soluciones subóptimas. Encontrar este equilibrio es esencial para que el agente no solo aprenda, sino que también logre maximizar su rendimiento.\n",
    "\n",
    "Esto no es solo un dilema de los agentes; ¡nos pasa a los humanos todo el tiempo! ¿Deberías pedir ese plato que sabes que te encanta o arriesgarte a probar algo nuevo? ¿Ir de vacaciones al mismo lugar de siempre o aventurarte a descubrir un destino desconocido? Tanto para los agentes como para nosotros, el truco está en ser curiosos sin dejar de aprovechar lo que ya sabemos que funciona.\n",
    "\n",
    "Y tú, ¿eres más explorador o explotador?"
   ]
  },
  {
   "cell_type": "markdown",
   "metadata": {},
   "source": [
    "# 2. Tabular Q-Learning: Un primer paso práctico\n",
    "\n",
    "El **Q-Learning** es uno de los algoritmos más básicos y poderosos en el aprendizaje por refuerzo. Es un método basado en tablas que permite a un agente aprender la mejor acción para tomar en cada estado de un entorno."
   ]
  },
  {
   "cell_type": "markdown",
   "metadata": {},
   "source": [
    "## 2.1. Descripción del problema: un agente en una cuadrícula\n",
    "\n",
    "Para este ejemplo, imaginemos que nuestro agente es un explorador en un laberinto de cuadrícula. Su objetivo es encontrar el camino más rápido hacia la salida (o el tesoro escondido) sin chocar con los muros ni caer en trampas. Cada celda del laberinto es un estado, y las acciones posibles son moverse en 4 direcciones: arriba, abajo, izquierda o derecha.\n",
    "\n",
    "Estas son las reglas del juego:\n",
    "\n",
    "- **Entorno**: Una cuadrícula 2D (5x5) con una celda de inicio, una meta y varios obstáculos.\n",
    "- **Estados**: Cada celda de la cuadrícula representa un estado diferente.\n",
    "- **Acciones**: El agente puede moverse en 4 direcciones: arriba, abajo, izquierda o derecha.\n",
    "- **Recompensas**:\n",
    "  - Llegar a la meta: +10 puntos.\n",
    "  - Chocar contra un muro u obstáculo: -5 puntos.\n",
    "  - Movimiento normal: -1 punto (penalización mínima para evitar movimientos innecesarios).\n",
    "\n",
    "**Visualización del problema:**\n",
    "\n",
    "```plaintext\n",
    "S: Inicio\n",
    "G: Meta\n",
    "X: Obstáculo\n",
    "\n",
    "    +---+---+---+---+---+\n",
    "    | S |   |   | X |   |\n",
    "    +---+---+---+---+---+\n",
    "    |   |   | X |   |   |\n",
    "    +---+---+---+---+---+\n",
    "    |   | X |   |   | G |\n",
    "    +---+---+---+---+---+\n",
    "    |   |   |   |   |   |\n",
    "    +---+---+---+---+---+\n",
    "    |   |   |   |   |   |\n",
    "    +---+---+---+---+---+\n",
    "\n",
    "```\n",
    "\n",
    "El objetivo del agente en este caso es aprender, a través de prueba y error, cómo moverse desde la celda de inicio (S) hasta la celda de meta (G) mientras minimiza las penalizaciones.\n",
    "\n",
    "Ahora veamos esto en la práctica: Configurar esta cuadrícula en Python, inicializar la tabla Q, y comenzar a implementar el algoritmo.\n"
   ]
  },
  {
   "cell_type": "markdown",
   "metadata": {},
   "source": [
    "## 2.2. Configuración del entorno\n",
    "\n",
    "Antes de implementar Q-Learning, necesitamos construir nuestro entorno: la cuadrícula 2D donde el agente aprenderá a navegar. Esto incluye definir los estados, las acciones y las reglas del juego."
   ]
  },
  {
   "cell_type": "markdown",
   "metadata": {},
   "source": [
    "### Configuración inicial\n",
    "\n",
    "Vamos a definir el entorno como una cuadrícula 5x5, donde cada celda representa un estado. Utilizaremos Python para estructurar la cuadrícula y asignar las recompensas."
   ]
  },
  {
   "cell_type": "code",
   "execution_count": 3,
   "metadata": {},
   "outputs": [
    {
     "name": "stdout",
     "output_type": "stream",
     "text": [
      "Entorno de recompensas:\n",
      "[[-1 -1 -1 -5 -1]\n",
      " [-1 -1 -5 -1 -1]\n",
      " [-1 -5 -1 -1 10]\n",
      " [-1 -1 -1 -1 -1]\n",
      " [-1 -1 -1 -1 -1]]\n"
     ]
    }
   ],
   "source": [
    "# Tamaño del entorno\n",
    "grid_size = 5\n",
    "\n",
    "# Matriz de recompensas\n",
    "rewards = np.full((grid_size, grid_size), -1)\n",
    "\n",
    "# Definimos la meta y los obstáculos\n",
    "rewards[2, 4] = 10\n",
    "rewards[0, 3] = -5 \n",
    "rewards[1, 2] = -5\n",
    "rewards[2, 1] = -5\n",
    "\n",
    "# Mostrar el entorno inicial\n",
    "print(\"Entorno de recompensas:\")\n",
    "print(rewards)\n"
   ]
  },
  {
   "cell_type": "markdown",
   "metadata": {},
   "source": [
    "### Definir las acciones\n",
    "\n",
    "El agente puede moverse en cuatro direcciones: **arriba, abajo, izquierda, derecha**. Vamos a asignar un índice a cada acción para que sea más fácil codificar."
   ]
  },
  {
   "cell_type": "code",
   "execution_count": 4,
   "metadata": {},
   "outputs": [],
   "source": [
    "# Acciones posibles\n",
    "actions = {\n",
    "    0: \"arriba\",\n",
    "    1: \"abajo\",\n",
    "    2: \"izquierda\",\n",
    "    3: \"derecha\"\n",
    "}"
   ]
  },
  {
   "cell_type": "markdown",
   "metadata": {},
   "source": [
    "### Limitar los movimientos\n",
    "\n",
    "Para evitar que el agente se salga de los límites de la cuadrícula, definiremos una función que valide sus movimientos."
   ]
  },
  {
   "cell_type": "code",
   "execution_count": 5,
   "metadata": {},
   "outputs": [],
   "source": [
    "def validate_movement(pos, action):\n",
    "    \"\"\"\n",
    "    Valida el movimiento del agente en el entorno.\n",
    "    \"\"\"\n",
    "    x, y = pos\n",
    "    if action == 0 and x > 0:  # Arriba\n",
    "        return (x - 1, y)\n",
    "    elif action == 1 and x < grid_size - 1:  # Abajo\n",
    "        return (x + 1, y)\n",
    "    elif action == 2 and y > 0:  # Izquierda\n",
    "        return (x, y - 1)\n",
    "    elif action == 3 and y < grid_size - 1:  # Derecha\n",
    "        return (x, y + 1)\n",
    "    else:\n",
    "        return pos  # Si el movimiento no es válido, permanece en el mismo lugar"
   ]
  },
  {
   "cell_type": "markdown",
   "metadata": {},
   "source": [
    "### Probar el entorno\n",
    "\n",
    "Simulemos un movimiento inicial para verificar que nuestro entorno funciona correctamente."
   ]
  },
  {
   "cell_type": "code",
   "execution_count": 6,
   "metadata": {},
   "outputs": [
    {
     "name": "stdout",
     "output_type": "stream",
     "text": [
      "El agente se movió de (0, 0) a (0, 1)\n",
      "Movimiento inválido: el agente permanece en (0, 0)\n"
     ]
    }
   ],
   "source": [
    "# Posición inicial del agente\n",
    "pos_inicial = (0, 0)\n",
    "\n",
    "# Acción de prueba: moverse hacia la derecha\n",
    "nueva_pos = validate_movement(pos_inicial, 3)\n",
    "print(f\"El agente se movió de {pos_inicial} a {nueva_pos}\")\n",
    "\n",
    "# Acción inválida: intentar moverse hacia arriba desde el borde superior\n",
    "nueva_pos = validate_movement((0, 0), 0)\n",
    "print(f\"Movimiento inválido: el agente permanece en {nueva_pos}\")\n"
   ]
  },
  {
   "cell_type": "markdown",
   "metadata": {},
   "source": [
    "## 2.3. Implementación del algoritmo Tabular Q-Learning\n",
    "\n",
    "El Q-Learning es un algoritmo basado en tablas donde el agente aprende a tomar decisiones optimizadas usando la función Q, que estima la calidad de las acciones en cada estado. Puedes imaginarlo como una hoja de cálculo donde el agente anota qué tan buena es cada acción posible en cada celda o posición del entorno."
   ]
  },
  {
   "cell_type": "markdown",
   "metadata": {},
   "source": [
    "### 2.3.1. Inicialización de la tabla Q\n",
    "\n",
    "La tabla Q es una matriz donde:\n",
    "\n",
    "- Las filas representan los estados.\n",
    "- Las columnas representan las acciones.\n",
    "- Los valores en la tabla indican qué tan buena es una acción en un estado específico.\n",
    "\n",
    "Primero, crearemos una tabla Q llena de ceros y definiremos algunos parámetros clave."
   ]
  },
  {
   "cell_type": "code",
   "execution_count": 7,
   "metadata": {},
   "outputs": [
    {
     "name": "stdout",
     "output_type": "stream",
     "text": [
      "Tabla Q inicial:\n",
      "[[[0. 0. 0. 0.]\n",
      "  [0. 0. 0. 0.]\n",
      "  [0. 0. 0. 0.]\n",
      "  [0. 0. 0. 0.]\n",
      "  [0. 0. 0. 0.]]\n",
      "\n",
      " [[0. 0. 0. 0.]\n",
      "  [0. 0. 0. 0.]\n",
      "  [0. 0. 0. 0.]\n",
      "  [0. 0. 0. 0.]\n",
      "  [0. 0. 0. 0.]]\n",
      "\n",
      " [[0. 0. 0. 0.]\n",
      "  [0. 0. 0. 0.]\n",
      "  [0. 0. 0. 0.]\n",
      "  [0. 0. 0. 0.]\n",
      "  [0. 0. 0. 0.]]\n",
      "\n",
      " [[0. 0. 0. 0.]\n",
      "  [0. 0. 0. 0.]\n",
      "  [0. 0. 0. 0.]\n",
      "  [0. 0. 0. 0.]\n",
      "  [0. 0. 0. 0.]]\n",
      "\n",
      " [[0. 0. 0. 0.]\n",
      "  [0. 0. 0. 0.]\n",
      "  [0. 0. 0. 0.]\n",
      "  [0. 0. 0. 0.]\n",
      "  [0. 0. 0. 0.]]]\n"
     ]
    }
   ],
   "source": [
    "# Inicializar la tabla Q\n",
    "q_table = np.zeros((grid_size, grid_size, len(actions)))\n",
    "\n",
    "# Parámetros del Q-Learning\n",
    "alpha = 0.1  # Tasa de aprendizaje\n",
    "gamma = 0.9  # Factor de descuento\n",
    "epsilon = 1.0  # Probabilidad inicial de exploración\n",
    "epsilon_decay = 0.99  # Reducción de epsilon en cada episodio\n",
    "epsilon_min = 0.1  # Valor mínimo de epsilon\n",
    "\n",
    "# Mostrar la tabla Q inicial\n",
    "print(\"Tabla Q inicial:\")\n",
    "print(q_table)"
   ]
  },
  {
   "cell_type": "markdown",
   "metadata": {},
   "source": [
    "> **Nota**: Aquí podemos ver como los valores de la tabla Q valen 0 ahora mismo, esto es porque el agente no tiene experiencia. A medida que aprende, se actualizarán estos valores."
   ]
  },
  {
   "cell_type": "markdown",
   "metadata": {},
   "source": [
    "### 2.3.2. Actualización de valores Q\n",
    "\n",
    "Para que nuestro agente mejore sus decisiones con el tiempo, es fundamental que actualice continuamente su tabla Q. Este proceso de aprendizaje se basa en una regla sencilla: cada vez que el agente toma una decisión, registra la recompensa obtenida. De este modo, construye un historial que le permite identificar las acciones que conducen a los mejores resultados.\n",
    "\n",
    "El agente utiliza una forma matemática para ajustar los valores de su tabla Q. La idea es combinar:\n",
    "\n",
    "1. Lo que ya sabe sobre esa acción.\n",
    "2. Lo que acaba de aprender tras tomar laa acción."
   ]
  },
  {
   "cell_type": "markdown",
   "metadata": {},
   "source": [
    "#### Paso a paso del Q-Learning\n",
    "\n",
    "1. **Elegir una acción**: El agente decide si explorar (acción aleatoria) o explotar (acción con el mejor valor Q conocido).\n"
   ]
  },
  {
   "cell_type": "code",
   "execution_count": 8,
   "metadata": {},
   "outputs": [],
   "source": [
    "def choose_action(state, epsilon):\n",
    "    \"\"\"\n",
    "    Elegir acción con epsilon-greedy\n",
    "    \"\"\"\n",
    "    if np.random.rand() < epsilon:\n",
    "        return np.random.choice(list(actions.keys()))  # Exploración\n",
    "    else:\n",
    "        return np.argmax(q_table[state])  # Explotación\n"
   ]
  },
  {
   "cell_type": "markdown",
   "metadata": {},
   "source": [
    "En esta función previa, el parámetro `epsilon` es un valor entre `0` y `1` que determina la probabilidad de que el agente explore, un valor más alto, implica una mayor exploración, un valor bajo, implica una mayor explotación.\n",
    "\n",
    "2. **Actualizar la tabla Q**: El agente observa la recompensa y el nuevo estado, y actualiza el valor Q de la acción tomada."
   ]
  },
  {
   "cell_type": "code",
   "execution_count": 9,
   "metadata": {},
   "outputs": [],
   "source": [
    "def update_q(state, action, reward, new_state):\n",
    "    \"\"\"\n",
    "    Actualizar la tabla Q usando la fórmula de Q-Learning\n",
    "    \"\"\"\n",
    "    max_q_new = np.max(q_table[new_state])\n",
    "    q_table[state][action] += alpha * (reward + gamma * max_q_new - q_table[state][action])"
   ]
  },
  {
   "cell_type": "markdown",
   "metadata": {},
   "source": [
    "3. **Simulación de episodios**: Un episodio representa un intento completo del agente por alcanzar la meta desde el estado inicial. Durante cada episodio, el agente toma decisiones, aprende de sus acciones y actualiza la tabla Q. El proceso se repite hasta que el agente llega a la meta o fracasa al no progresar.\n",
    "\n",
    "**Epsilon decay**:\n",
    "\n",
    "Al final de cada episodio, reducimos el valor de `𝜖` (epsilon) para que el agente explore menos y aproveche más lo aprendido. Sin embargo, nunca lo dejamos llegar a 0, manteniendo un valor mínimo para que el agente siga explorando nuevas acciones de vez en cuando, asegurando un aprendizaje continuo.\n",
    "\n",
    "A continuación, implementamos el bucle principal de entrenamiento del agente."
   ]
  },
  {
   "cell_type": "code",
   "execution_count": 10,
   "metadata": {},
   "outputs": [
    {
     "name": "stdout",
     "output_type": "stream",
     "text": [
      "Episode 50/500: epsilon=0.61\n",
      "Episode 100/500: epsilon=0.37\n",
      "Episode 150/500: epsilon=0.22\n",
      "Episode 200/500: epsilon=0.13\n",
      "Episode 250/500: epsilon=0.10\n",
      "Episode 300/500: epsilon=0.10\n",
      "Episode 350/500: epsilon=0.10\n",
      "Episode 400/500: epsilon=0.10\n",
      "Episode 450/500: epsilon=0.10\n",
      "Episode 500/500: epsilon=0.10\n"
     ]
    }
   ],
   "source": [
    "# Simulación de episodios\n",
    "episodes = 500\n",
    "for episode in range(episodes):\n",
    "    state = (0, 0)  # Inicio\n",
    "    terminated = False\n",
    "\n",
    "    while not terminated:\n",
    "        # Elegir acción\n",
    "        action = choose_action(state, epsilon)\n",
    "\n",
    "        # Realizar acción y observar resultado\n",
    "        new_state = validate_movement(state, action)\n",
    "        reward = rewards[new_state]\n",
    "\n",
    "        # Actualizar Q\n",
    "        update_q(state, action, reward, new_state)\n",
    "\n",
    "        # Actualizar estado\n",
    "        state = new_state\n",
    "\n",
    "        # Verificar si llegamos a la meta\n",
    "        if state == (2, 4):  # Meta\n",
    "            terminated = True\n",
    "\n",
    "    # Reducir epsilon\n",
    "    epsilon = max(epsilon_min, epsilon * epsilon_decay)\n",
    "\n",
    "    # Mostrar progreso\n",
    "    if (episode + 1) % 50 == 0:\n",
    "        print(f\"Episode {episode + 1}/{episodes}: epsilon={epsilon:.2f}\")\n"
   ]
  },
  {
   "cell_type": "markdown",
   "metadata": {},
   "source": [
    "Durante el entrenamiento, observamos cómo el valor de epsilon se reduce gradualmente:\n",
    "\n",
    "- Durante los primeros 50 episodios, el valor de epsilon es alto (0.61), lo que significa que el agente está explorando muchas acciones diferentes para aprender más sobre el entorno.\n",
    "- A medida que progresa, epsilon disminuye gradualmente, hasta estabilizarse en el mínimo de 0.10. En esta etapa, el agente explora poco y prefiere explotar las acciones que sabe que funcionan bien.\n",
    "- Mantener un valor mínimo de epsilon asegura que el agente siga probando acciones nuevas ocasionalmente, lo que evita que quede atrapado en soluciones subóptimas."
   ]
  },
  {
   "cell_type": "markdown",
   "metadata": {},
   "source": [
    "## 2.4. Visualización del aprendizaje del agente\n",
    "\n",
    "Una vez ha finalizado el entrenamiento, imprimimos la tabla Q aprendida y simulamos un recorrido para verificar que el agente aprendió correctamente."
   ]
  },
  {
   "cell_type": "code",
   "execution_count": 11,
   "metadata": {},
   "outputs": [
    {
     "name": "stdout",
     "output_type": "stream",
     "text": [
      "Tabla Q final:\n",
      "[[[-1.8785332  -0.434062   -2.10599579 -3.29662718]\n",
      "  [-3.08869526 -3.0094733  -3.17612643 -1.99810402]\n",
      "  [-2.62952998 -0.16584448 -2.80443954 -3.88639214]\n",
      "  [-2.80794174  3.87345351 -1.74712188 -0.1330756 ]\n",
      "  [-0.44190238  2.52177356 -2.31722053 -0.47489896]]\n",
      "\n",
      " [[-2.28132004  0.62882    -1.02013122 -1.92039245]\n",
      "  [-2.98798573 -3.2364383  -2.93401494  0.01275622]\n",
      "  [-1.63450481  3.84834883 -2.5614837   6.18694006]\n",
      "  [-2.61702793  7.99916355 -1.26140221  4.37311156]\n",
      "  [-0.32899183  8.78423345  0.63695476  0.6075994 ]]\n",
      "\n",
      " [[-1.09747194  1.8098      0.19425919 -0.06589115]\n",
      "  [-2.2707811   0.46342211 -1.29922693  6.18620101]\n",
      "  [ 0.15285859  4.03678038 -0.32019395  8.        ]\n",
      "  [ 5.6856476   5.74689639  5.76655191 10.        ]\n",
      "  [ 0.          0.          0.          0.        ]]\n",
      "\n",
      " [[-0.01752676 -1.18515317  0.78908424  3.122     ]\n",
      "  [-0.09634962  0.88205117  1.03241178  4.58      ]\n",
      "  [ 6.2         2.09480919  1.6551983   5.11488988]\n",
      "  [ 7.96514935 -0.29697138  1.09068891  0.6661142 ]\n",
      "  [ 4.68559     0.          0.37126892  0.        ]]\n",
      "\n",
      " [[-0.97884016 -1.36228881 -1.69269202  0.65754308]\n",
      "  [ 3.00526595 -0.68121851 -1.17095931 -0.5612472 ]\n",
      "  [ 4.26649483  0.08052408 -0.60241864 -0.75215183]\n",
      "  [ 1.74087348 -0.37967622 -0.49444299 -0.19      ]\n",
      "  [ 0.1439     -0.1        -0.1084249  -0.19      ]]]\n",
      "Camino óptimo aprendido por el agente:\n",
      "[(0, 0), (1, 0), (2, 0), (3, 0), (3, 1), (3, 2), (2, 2), (2, 3), (2, 4)]\n"
     ]
    }
   ],
   "source": [
    "# Mostrar tabla Q final\n",
    "print(\"Tabla Q final:\")\n",
    "print(q_table)\n",
    "\n",
    "# Simulación de un recorrido óptimo\n",
    "state = (0, 0)\n",
    "path = [state]\n",
    "while state != (2, 4):  # Mientras no lleguemos a la meta\n",
    "    action = np.argmax(q_table[state])\n",
    "    state = validate_movement(state, action)\n",
    "    path.append(state)\n",
    "\n",
    "print(\"Camino óptimo aprendido por el agente:\")\n",
    "print(path)\n"
   ]
  },
  {
   "cell_type": "markdown",
   "metadata": {},
   "source": [
    "En base a los resultados, podemos ver el camino óptimo que el agente ha aprendido para llegar a la meta."
   ]
  },
  {
   "cell_type": "code",
   "execution_count": 12,
   "metadata": {},
   "outputs": [
    {
     "data": {
      "image/png": "[encoded data removed]",
      "text/plain": [
       "<Figure size 1000x1000 with 1 Axes>"
      ]
     },
     "metadata": {},
     "output_type": "display_data"
    }
   ],
   "source": [
    "# Visualizar el camino\n",
    "visualize_q_learning_path(path)"
   ]
  },
  {
   "cell_type": "markdown",
   "metadata": {},
   "source": [
    "Nuestro agente sabe cómo navegar la cuadrícula y llegar a la meta mientras evita los obstáculos. Este ejemplo es simple, pero revela algo poderoso: la capacidad de aprender del entorno y adaptarse con el tiempo.\n",
    "\n",
    "Si nos paramos a pensar, ¿no es esto similar a nuestras propias vidas? Estamos constantemente explorando caminos, cometiendo errores, encontrando recompensas y aprendiendo. Somos como agentes en nuestro propio entorno, nuestro mundo. siempre buscando nuestro próximo movimiento óptimo.\n",
    "\n",
    "Pero, al igual que nuestro agente en la cuadrícula, hay un límite en lo que podemos hacer con un entorno tan simple. El mundo es vasto, dinámico y lleno de complejidades. ¿Cómo sería si pudiéramos entrenar a nuestros agentes para enfrentarse a entornos que simulen ese dinamismo? ¿Qué secretos podrían desentrañar?\n",
    "\n",
    "Con esta pregunta en mente, nos adentramos en **OpenAI Gym**, donde los agentes no solo aprenden, sino que se enfrentan a desafíos más reales y emocionantes. ¿Listo para aplicar lo que hemos aprendido?"
   ]
  },
  {
   "cell_type": "markdown",
   "metadata": {},
   "source": [
    "# 3. OpenAI Gym y el problema de Cartpole"
   ]
  },
  {
   "cell_type": "markdown",
   "metadata": {},
   "source": [
    "## 3.1. Introducción a OpenAI Gym\n",
    "\n",
    "OpenAI Gym es una biblioteca que nos proporciona una colección de entornos de simulación listos para usar. Desde juegos simples hasta problemas complejos de robótica, es una herramienta esencial para experimentar con el aprendizaje por refuerzo.\n",
    "\n",
    "Un ejemplo clásico que exploraremos aquí es CartPole: en este entorno, el agente controla un carrito sobre una pista y su objetivo es mantener un palo en equilibrio el mayor tiempo posible. Si el palo se inclina demasiado o el carrito sale de los límites de la pista, el episodio termina."
   ]
  },
  {
   "cell_type": "markdown",
   "metadata": {},
   "source": [
    "## 3.2. Configuración del entorno CartPole\n",
    "\n",
    "Primero, configuramos el entorno de OpenAI Gym y exploramos sus propiedades."
   ]
  },
  {
   "cell_type": "code",
   "execution_count": 13,
   "metadata": {},
   "outputs": [
    {
     "name": "stdout",
     "output_type": "stream",
     "text": [
      "Espacio de observación: Box([-4.8               -inf -0.41887903        -inf], [4.8               inf 0.41887903        inf], (4,), float32)\n",
      "Espacio de acciones: Discrete(2)\n",
      "Estado inicial: (array([-0.0370248 , -0.02489001,  0.03096367, -0.03253341], dtype=float32), {})\n"
     ]
    }
   ],
   "source": [
    "# Crear el entorno CartPole\n",
    "env = gym.make(\"CartPole-v1\")\n",
    "\n",
    "# Observar el espacio de estados y acciones\n",
    "print(\"Espacio de observación:\", env.observation_space)\n",
    "print(\"Espacio de acciones:\", env.action_space)\n",
    "\n",
    "# Reiniciar el entorno para obtener el estado inicial\n",
    "state = env.reset()\n",
    "print(\"Estado inicial:\", state)\n"
   ]
  },
  {
   "cell_type": "markdown",
   "metadata": {},
   "source": [
    "Aquí podemos ver tres elementos importantes:\n",
    "\n",
    "- **Espacio de observación**: El espacio de observación nos dice qué información puede \"ver\" el agente:\n",
    "    - Posición del carrito.\n",
    "    - Velocidad del carrito.\n",
    "    - Ángulo del palo.\n",
    "    - Velocidad angular del palo.\n",
    "- **Espacio de acciones**: En CartPole, el agente puede tomar dos acciones:\n",
    "    - Mover el carrito a la izquierda (acción 0).\n",
    "    - Mover el carrito a la derecha (acción 1).\n",
    "- **Estado inicial**: Cuando reiniciamos el entorno, obtenemos un estado inicial que describe la posición y velocidad del carrito y el palo.\n",
    "\n",
    "Estos datos son el \"mundo\" que el agente puede percibir. Para tomar decisiones, necesita interpretar esta información y aprender cómo afecta sus acciones al equilibrio."
   ]
  },
  {
   "cell_type": "markdown",
   "metadata": {},
   "source": [
    "### Visualización del entorno\n",
    "\n",
    "Vamos a visualizar CartPole en acción para entender mejor cómo se comporta."
   ]
  },
  {
   "cell_type": "code",
   "execution_count": 14,
   "metadata": {},
   "outputs": [],
   "source": [
    "def simulate_and_render(env, policy=None, max_steps=200, gif_name='GIF_CartPole.gif', display_gif=True, use_discretization=True, bins=20):\n",
    "    \"\"\"\n",
    "    Simula un episodio y genera un GIF de la simulación.\n",
    "    \n",
    "    Args:\n",
    "        env: Entorno de gymnasium\n",
    "        policy: Función que toma un estado y devuelve una acción. Si es None, usa acciones aleatorias\n",
    "        max_steps: Número máximo de pasos en la simulación\n",
    "        gif_name: Nombre del archivo GIF resultante\n",
    "        display_gif: Si True, muestra el GIF por pantalla\n",
    "    \n",
    "    Returns:\n",
    "        reward_total: Recompensa total del episodio\n",
    "    \"\"\"\n",
    "    in_colab = 'google.colab' in str(get_ipython())\n",
    "    save_path = gif_name if in_colab else f'../docs/imgs/{gif_name}'\n",
    "    if not in_colab:\n",
    "        os.makedirs('../docs/imgs', exist_ok=True)\n",
    "    \n",
    "    state, _ = env.reset()\n",
    "    frames = []\n",
    "    reward_total = 0\n",
    "    \n",
    "    for _ in range(max_steps):\n",
    "        frame = env.render()\n",
    "        frames.append(Image.fromarray(frame))\n",
    "        \n",
    "        if policy is None:\n",
    "            action = env.action_space.sample()\n",
    "        else:\n",
    "            try:\n",
    "                if use_discretization:\n",
    "                    state_discrete = discretize(state, bins)\n",
    "                    action = np.argmax(policy[state_discrete])\n",
    "                else:\n",
    "                    action = np.argmax(policy[state])\n",
    "            except Exception as e:\n",
    "                action = env.action_space.sample()\n",
    "\n",
    "        state, reward, terminated, truncated, info = env.step(action)\n",
    "        reward_total += reward\n",
    "        \n",
    "        if terminated or truncated:\n",
    "            break\n",
    "    \n",
    "    env.close()\n",
    "    \n",
    "    if frames:\n",
    "        frames[0].save(\n",
    "            save_path,\n",
    "            save_all=True,\n",
    "            append_images=frames[1:],\n",
    "            duration=50,\n",
    "            loop=0\n",
    "        )\n",
    "    \n",
    "    if display_gif and frames:\n",
    "        display.clear_output(wait=True)\n",
    "        return display.Image(save_path), reward_total\n",
    "    \n",
    "    return reward_total"
   ]
  },
  {
   "cell_type": "code",
   "execution_count": 15,
   "metadata": {},
   "outputs": [
    {
     "name": "stdout",
     "output_type": "stream",
     "text": [
      "Recompensa con política aleatoria: 44.0\n"
     ]
    }
   ],
   "source": [
    "env = gym.make(\"CartPole-v1\", render_mode=\"rgb_array\")\n",
    "display_gif = False\n",
    "if display_gif:\n",
    "    gif, reward = simulate_and_render(env, policy=None, gif_name='GIF_CartPole_Random.gif', display_gif=True)\n",
    "    display.display(gif)\n",
    "else:\n",
    "    reward = simulate_and_render(env, policy=None, gif_name='GIF_CartPole_Random.gif', display_gif=False)\n",
    "print(f\"Recompensa con política aleatoria: {reward}\")"
   ]
  },
  {
   "cell_type": "markdown",
   "metadata": {},
   "source": [
    "![GIF_CartPole](../docs/imgs/GIF_CartPole.gif)"
   ]
  },
  {
   "cell_type": "markdown",
   "metadata": {},
   "source": [
    "Como puedes observar, el carrito intenta mantener el palo en equilibrio el mayor tiempo posible, moviéndose de un lado a otro para evitar que se caiga o que salga de los límites de la pista. Sin embargo, cuando el palo supera un cierto ángulo de inclinación o el carrito se desplaza demasiado lejos, el episodio termina y el entorno se reinicia automáticamente.\n",
    "\n",
    "En particular, el entorno se reinicia cuando:\n",
    "- El palo se inclina más de 12 grados.\n",
    "- El carrito se desplaza más de 2.4 unidades de distancia del centro.\n",
    "\n",
    "Estos criterios están predefinidos en OpenAI Gym para simplificar el problema y permitir que el agente pueda enfocarse en estrategias claras para maximizar su recompensa dentro de un marco limitado."
   ]
  },
  {
   "cell_type": "markdown",
   "metadata": {},
   "source": [
    "## 3.3. Implementación de Q-Learning para CartPole"
   ]
  },
  {
   "cell_type": "markdown",
   "metadata": {},
   "source": [
    "Para CartPole, necesitamos ajustar el enfoque de Q-Learning. Esto se debe a que:\n",
    "\n",
    "1. A diferencia de nuestra cuadrícula anterior, CartPole tiene un espacio continuo para las observaciones (valores como posición o ángulo). Esto significa que el agente podría enfrentarse a infinitos estados posibles.\n",
    "2. Cada acción afecta no solo al presente, sino también a las posibilidades futuras. Si mueves el carrito en la dirección equivocada, el palo podría caer más rápido.\n",
    "\n",
    "Para manejar esto, nuestro primer paso será discretizar el espacio de observación.\n",
    "\n",
    "### ¿Qué es discretizar?\n",
    "\n",
    "**Discretizar** significa dividir el espacio continuo en categorías o bins manejables, en otras palabras, reducir el número de estados posibles.\n",
    "\n",
    "Por ejemplo, supongamos que tenemos un termómetro que mide temperaturas entre 0.00°C y 100.00°C. Este es un espacio continuo porque el termómetro puede mostrar cualquier valor decimal, como 22.37°C o 89.56°C. Sin embargo, si lo dividimos en 10 rangos (bins), podríamos agrupar las temperaturas así:\n",
    "\n",
    "Bin 0: 0-10°C\n",
    "Bin 1: 10-20°C\n",
    "Bin 2: 20-30°C\n",
    "...\n",
    "Bin 9: 90-100°C\n",
    "\n",
    "De esta forma, si la temperatura es 22.37°C, cae en el Bin 2 (20-30°C). Esto simplifica las decisiones, ya que en lugar de considerar infinitos valores, sólo tenemos que trabajar con 10 categorías discretas.\n",
    "\n",
    "Básicamente, buscamos conseguir:\n",
    "1. Simplificar el problema acotando el número de estados posibles para poder dibujarlos en una tabla Q.\n",
    "2. Reducir la complejidad computacional (cantidad de información a procesar por parte del agente)."
   ]
  },
  {
   "cell_type": "code",
   "execution_count": 16,
   "metadata": {},
   "outputs": [
    {
     "name": "stdout",
     "output_type": "stream",
     "text": [
      "Estado continuo: [ 0.00015232 -0.04569796 -0.00737907 -0.00991326]\n",
      "Estado discreto: (np.int64(9), np.int64(9), np.int64(9), np.int64(9))\n"
     ]
    }
   ],
   "source": [
    "# Definir los límites del espacio de observación\n",
    "min_space = env.observation_space.low\n",
    "max_space = env.observation_space.high\n",
    "\n",
    "# Limitar valores extremos para estabilidad\n",
    "min_space[1] = -3.4  # Velocidad del carrito\n",
    "max_space[1] = 3.4\n",
    "min_space[3] = -3.4  # Velocidad angular del palo\n",
    "max_space[3] = 3.4\n",
    "\n",
    "# Dividir cada dimensión en bins\n",
    "bins = 20\n",
    "\n",
    "# Función para discretizar un estado continuo\n",
    "def discretize(state, bins):\n",
    "    \"\"\"Convierte un estado continuo en uno discreto usando bins.\"\"\"\n",
    "    # Usamos ranges en lugar de range para evitar conflicto con la función built-in\n",
    "    ranges = [np.linspace(min_space[i], max_space[i], bins) for i in range(len(state))]\n",
    "    return tuple(np.digitize(state[i], ranges[i]) - 1 for i in range(len(state)))\n",
    "\n",
    "# Probar la discretización\n",
    "state_continuous = env.reset()[0]\n",
    "state_discrete = discretize(state_continuous, bins)\n",
    "print(\"Estado continuo:\", state_continuous)\n",
    "print(\"Estado discreto:\", state_discrete)\n"
   ]
  },
  {
   "cell_type": "markdown",
   "metadata": {},
   "source": [
    "Ahora, cada estado continuo se ha convertido en un estado discreto con 20 categorías para cada variable. Esto simplifica enormemente el algoritmo, pero no sacrifica la capacidad de aprendizaje del agente."
   ]
  },
  {
   "cell_type": "markdown",
   "metadata": {},
   "source": [
    "### Inicialización de la tabla Q\n",
    "\n",
    "La tabla Q es donde almacenaremos lo aprendido. Representa las estimaciones del agente sobre la calidad de cada acción en cada estado discreto."
   ]
  },
  {
   "cell_type": "code",
   "execution_count": 17,
   "metadata": {},
   "outputs": [
    {
     "name": "stdout",
     "output_type": "stream",
     "text": [
      "Dimensiones de la tabla Q: (20, 20, 20, 20, 2)\n"
     ]
    }
   ],
   "source": [
    "# Dimensiones de la tabla Q\n",
    "dimensions = (bins,) * len(min_space) + (env.action_space.n,)\n",
    "\n",
    "# Crear la tabla Q llena de ceros\n",
    "q_table = np.zeros(dimensions)\n",
    "print(\"Dimensiones de la tabla Q:\", q_table.shape)\n"
   ]
  },
  {
   "cell_type": "markdown",
   "metadata": {},
   "source": [
    "En este output podemos ver cómo está organizada la tabla Q. Cada número representa una dimensión del espacio de estados y acciones:\n",
    "\n",
    "- **(20, 20, 20, 20)**: Estas cuatro primeras dimensiones corresponden a las características del entorno discretizadas en 20 categorías (bins) cada una:\n",
    "    - Posición del carrito.\n",
    "    - Velocidad del carrito.\n",
    "    - Ángulo del palo.\n",
    "    - Velocidad angular del palo.\n",
    "\n",
    "Juntas, forman todas las posibles combinaciones de estados discretos del entorno. En este caso hay $20^4 = 160.000$ estados posibles.\n",
    "\n",
    "- **(2)**: La última dimensión representa las dos acciones posibles:\n",
    "    - Mover el carrito a la izquierda.\n",
    "    - Mover el carrito a la derecha.\n",
    "\n",
    "Estas dos acciones son las que el agente puede tomar para interactuar con el entorno.\n",
    "\n",
    "En definitiva, nuestra tabla Q almacena dos valores (uno para cada acción) para cada una de las $160.000$ combinaciones de estados posibles.\n",
    "\n",
    "> **Nota**: Aunque esta tabla es manejable para este problema, en entornos más complejos, necesitaríamos métodos más avanzados como redes neuronales para estimar los valores Q."
   ]
  },
  {
   "cell_type": "markdown",
   "metadata": {},
   "source": [
    "### 3.3.1. Entrenamiento del agente\n",
    "\n",
    "Finalmente, entrenaremos al agente para que aprenda a maximizar la duración del equilibrio del palo. Utilizaremos exploración (epsilon-greedy) al principio y, poco a poco, dejaremos que el agente confíe más en lo aprendido (explotación)."
   ]
  },
  {
   "cell_type": "code",
   "execution_count": 18,
   "metadata": {},
   "outputs": [
    {
     "name": "stdout",
     "output_type": "stream",
     "text": [
      "Episode 500/5000, average reward: 30.064\n",
      "Episode 1000/5000, average reward: 59.844\n",
      "Episode 1500/5000, average reward: 81.1\n",
      "Episode 2000/5000, average reward: 98.578\n",
      "Episode 2500/5000, average reward: 116.322\n",
      "Episode 3000/5000, average reward: 114.32\n",
      "Episode 3500/5000, average reward: 123.232\n",
      "Episode 4000/5000, average reward: 126.588\n",
      "Episode 4500/5000, average reward: 125.578\n",
      "Episode 5000/5000, average reward: 143.768\n"
     ]
    }
   ],
   "source": [
    "# Parámetros de entrenamiento\n",
    "alpha = 0.5  # Tasa de aprendizaje\n",
    "gamma = 0.95  # Factor de descuento\n",
    "epsilon = 1.0  # Probabilidad de exploración\n",
    "epsilon_decay = 0.999  # Decadencia de epsilon\n",
    "epsilon_min = 0.2  # Valor mínimo de epsilon\n",
    "\n",
    "# Entrenamiento\n",
    "episodes = 5000\n",
    "rewards = []\n",
    "\n",
    "for episode in range(episodes):\n",
    "    state_continuous = env.reset()[0]\n",
    "    state = discretize(state_continuous, bins)\n",
    "    reward_total = 0\n",
    "    terminated = False\n",
    "\n",
    "    while not terminated:\n",
    "        # Elegir acción con epsilon-greedy\n",
    "        if np.random.rand() < epsilon:\n",
    "            action = np.random.choice(env.action_space.n)  # Exploración\n",
    "        else:\n",
    "            action = np.argmax(q_table[state])  # Explotación\n",
    "\n",
    "        # Tomar acción y observar resultado\n",
    "        new_state_continuous, reward, terminated, truncated, info = env.step(action)\n",
    "        new_state = discretize(new_state_continuous, bins)\n",
    "\n",
    "        # Actualizar la tabla Q\n",
    "        max_q = np.max(q_table[new_state])\n",
    "        q_table[state][action] += alpha * (reward + gamma * max_q - q_table[state][action])\n",
    "\n",
    "        # Cambiar al nuevo estado\n",
    "        state = new_state\n",
    "        reward_total += reward\n",
    "\n",
    "    # Reducir epsilon\n",
    "    epsilon = max(epsilon_min, epsilon * epsilon_decay)\n",
    "\n",
    "    # Guardar recompensa del episodio\n",
    "    rewards.append(reward_total)\n",
    "\n",
    "    if (episode + 1) % 500 == 0:\n",
    "        print(f\"Episode {episode + 1}/{episodes}, average reward: {np.mean(rewards[-500:])}\")\n"
   ]
  },
  {
   "cell_type": "markdown",
   "metadata": {},
   "source": [
    "## 3.4. Análisis de resultados y reflexiones"
   ]
  },
  {
   "cell_type": "markdown",
   "metadata": {},
   "source": [
    "### Análisis de los resultados\n",
    "\n",
    "- **Mejora Continua**: Como vemos, la recompensa cada vez aumenta más, lo que indica que el agente está aprendiendo. Hacia los episodios intermedios (alrededor de 2.000), la recompensa supera los 100, lo que significa que el agente ha aprendido estrategias que mantienen el palo equilibrado más tiempo.\n",
    "- **Convergencia**: El aumento de la recompensa hacia los últimos episodios hasta alcanzar 147 aproximadamente en el episodio final, sugiere que el agente converge hacia una política efectiva y está maximizando su recompensa en la mayoría de las ocasiones.\n",
    "\n",
    "En definitiva, el agente ha aprendido con éxito: Las recompensas son crecientes y su estabilización sugieren que el agente ha adquirido una política efectiva para equilibrar el palo.\n",
    "\n",
    "Sin embargo, aunque vemos que el agente está aprendiendo, la recompensa máxima en CartPole es 500, es decir, que todavía queda bastante margen para mejorar.\n",
    "\n",
    "### Posibles pasos para mejorar el rendimiento\n",
    "\n",
    "\n",
    "- **Aumentar los episodios de entrenamiento**: Entrenar por más tiempo podría permitir que el agente refine aún más su política y alcance recompensas más altas. Además, por ahora hemos visto que la recompensa acumulada del agente sigue subiendo, lo que sugiere que todavía no ha convergido.\n",
    "- **Explorar `epsilon_decay` dinámico**: En lugar de disminuir `epsilon` linealmente, podríamos usar un enfoque dinámico que reduzca más rápido al principio y más lento hacia el final para equilibrar exploración y explotación.\n",
    "- **Probar estrategias avanzadas**: Otra posibilidad sería introducir métodos más sofisticados como **Double Q-Learning** o **Deep Q-Learning (DQN)** que pueden llevar al agente a dominar completamente el problema.\n",
    "- **Visualizar el comportamiento del agente**: Simular episodios después del entrenamiento para observar cómo el agente toma decisiones. Esto puede revelar si hay áreas específicas donde su política aún necesita mejoras.\n",
    "\n",
    "### Visualización de la evolución del agente\n",
    "\n",
    "Ahora vamos a visualizar el progreso y comportamiento del agente.\n",
    "\n",
    "Primero vamos a graficar las recompensas acumuladas:\n"
   ]
  },
  {
   "cell_type": "code",
   "execution_count": 19,
   "metadata": {},
   "outputs": [
    {
     "data": {
      "image/png": "[encoded data removed]",
      "text/plain": [
       "<Figure size 640x480 with 1 Axes>"
      ]
     },
     "metadata": {},
     "output_type": "display_data"
    }
   ],
   "source": [
    "plt.plot(rewards)\n",
    "plt.xlabel(\"Episodios\")\n",
    "plt.ylabel(\"Recompensa acumulada\")\n",
    "plt.title(\"Progreso del agente en CartPole\")\n",
    "plt.show()"
   ]
  },
  {
   "cell_type": "code",
   "execution_count": 20,
   "metadata": {},
   "outputs": [
    {
     "name": "stdout",
     "output_type": "stream",
     "text": [
      "Recompensa total del episodio: 200.0\n"
     ]
    }
   ],
   "source": [
    "env = gym.make(\"CartPole-v1\", render_mode=\"rgb_array\")\n",
    "display_gif = False\n",
    "if display_gif:\n",
    "    gif, reward = simulate_and_render(env, policy=q_table, gif_name='GIF_CartPole_Q-Learning.gif', display_gif=True)\n",
    "    display.display(gif)\n",
    "else:\n",
    "    reward = simulate_and_render(env, policy=q_table, gif_name='GIF_CartPole_Q-Learning.gif', display_gif=False)\n",
    "print(f\"Recompensa total del episodio: {reward}\")"
   ]
  },
  {
   "cell_type": "markdown",
   "metadata": {},
   "source": [
    "![GIF_CartPole_Q-Learning](../docs/imgs/GIF_CartPole_Q-Learning.gif)"
   ]
  },
  {
   "cell_type": "markdown",
   "metadata": {},
   "source": [
    "# 4. Conclusión\n",
    "\n",
    "Nos vamos a quedar por aquí con este ejercicio, pero te animo a que explores alguna de las propuestas que hemos comentado para intentar mejorar el rendimiento del agente.\n",
    "\n",
    "En este experimento, hemos llevado a nuestro agente desde la completa ignorancia hasta la capacidad de equilibrar un palo en el entorno dinámico de CartPole. No solo aprendió, sino que mejoró gradualmente hasta lograr recompensas promedio sólidas. Pero lo que hace esto realmente fascinante no es solo el número de recompensas, sino lo que nos dice sobre el aprendizaje por refuerzo y, en cierto sentido, sobre nosotros mismos.\n",
    "\n",
    "## ¿Qué aprendimos?\n",
    "\n",
    "1. **El poder de la retroalimentación**: Al igual que nosotros, el agente aprendió con cada intento, cada error y cada pequeño éxito. Esa simple regla de \"intenta, falla, ajusta y repite\" es fundamental tanto para los agentes de RL como para la vida misma.\n",
    "2. **Exploración para crecer, explotación para avanzar**: Al principio, el agente necesitaba explorar. Probar acciones, incluso si no parecían óptimas, le permitió descubrir estrategias que nunca hubiera encontrado de otro modo. Más tarde, comenzó a explotar lo que sabía para maximizar su recompensa. ¿No es eso lo que hacemos en nuestras propias vidas? Exploramos nuevos caminos, aprendemos y luego utilizamos ese conocimiento para avanzar.\n",
    "3. **La importancia de un entorno estructurado**: Crear un entorno controlado y estructurado como CartPole permitió al agente aprender sin riesgos externos. Esto no es muy diferente de cómo nos preparamos para enfrentar desafíos reales: practicamos, simulamos, y luego aplicamos lo aprendido en el mundo real.\n",
    "\n",
    "## ¿Próximos pasos?\n",
    "\n",
    "CartPole fue un desafío controlado. Un primer paso. Pero el mundo es mucho más complejo. Imagina entrenar agentes que optimicen sistemas de energía, manejen vehículos autónomos o diseñen estrategias para enfrentar problemas globales como el cambio climático.\n",
    "\n",
    "El aprendizaje por refuerzo no es solo una herramienta; es un modelo de cómo podemos enfrentarnos a nuestros propios desafíos, uno pequeño y manejable a la vez.\n",
    "\n",
    "Al final, lo que hace que el aprendizaje por refuerzo sea tan poderoso no es solo su capacidad para resolver problemas en un entorno simulado. Es cómo nos recuerda algo profundamente humano: el aprendizaje ocurre en ciclos. Exploramos, explotamos, fallamos y ajustamos. En este proceso, no solo nos hacemos mejores, sino que también construimos el conocimiento necesario para enfrentar desafíos más grandes.\n",
    "\n",
    "¿Qué pasará si llevamos esta mentalidad a nuestros propios proyectos y desafíos? Sólo queda explorar mientras explotamos lo que ya sabemos.\n"
   ]
  },
  {
   "cell_type": "markdown",
   "metadata": {},
   "source": [
    "# Toma de acción para el aprendizaje: El RL en tu vida\n",
    "\n",
    "El aprendizaje por refuerzo no sólo nos permite entrenar agentes; también nos enseña lecciones valiosas sobre cómo enfrentar desafíos, tomar decisiones estratégicas y aprender de nuestras experiencias. Aquí tienes algunas acciones y reflexiones para llevar lo aprendido en este notebook a tu día a día, tanto en lo personal como en lo profesional.\n",
    "\n",
    "1. **Encuentra tus recompensas**: En el aprendizaje por refuerzo, todo se basa en maximizar recompensas acumuladas. ¿Cuál es tu recompensa en este momento? ¿Qué quieres maximizar? Puede ser mejorar tus habilidades, lograr un objetivo personal o resolver un problema en tu trabajo. Párate a definir tus recompensas con claridad. ¿Qué pequeños pasos puedes tomar hoy para acercarte a ellas?\n",
    "2. **Aprende de tus acciones**: Así como el agente ajusta su política después de cada acción, tú puedes reflexionar sobre tus decisiones pasadas. Pregúntate:\n",
    "    - ¿Qué decisiones recientes me acercaron a mis objetivos?\n",
    "    - ¿Qué decisiones puedo ajustar para evitar errores en el futuro?\n",
    "3. **Explora más antes de explotar**: Es fácil quedarse en lo que ya conoces, pero recuerda la importancia de la exploración para maximizar recompensas. Busca nuevos desafíos, haz algo que no hayas hecho antes y prueba caminos que no hayas considerado.\n",
    "   - *Algunos ejemplos*: Aprende una nueva habilidad, prueba una herramienta diferente en tu trabajo, ve a la ópera o a ver una película que no verías de otra forma, o experimenta con una estrategia no convencional.\n",
    "4. **Define tu entorno**: Los entornos bien diseñados, como OpenAI Gym, permiten que los agentes aprendan de forma segura. ¿Cómo puedes diseñar un entorno que te ayude a aprender mejor?\n",
    "   - *Algunos ejemplos*: Crea rutinas, elimina distracciones y establece metas claras para que tu entorno te impulse hacia el éxito.\n",
    "5. **Balancea el corto y el largo plazo**: El agente considera tanto las recompensas inmediatas como las futuras, recuerda que hay cosas que se acumulan y crecen exponencialmente. Aplica esto también en tu vida:\n",
    "   - ¿Qué decisiones hoy tienen beneficios inmediatos?\n",
    "   - ¿Qué inversiones a largo plazo pueden ser más gratificantes?\n",
    "6. **Redefine tus fracasos**: Cada episodio donde el agente falló en equilibrar el palo fue una oportunidad para aprender. De la misma forma, cada \"fracaso\" en tu vida es una experiencia valiosa. Es buena idea preguntarse siempre:\n",
    "   - ¿Qué aprendí de esta situación?\n",
    "   - ¿Cómo puedo ajustar mi estrategia para obtener mejores resultados cuando me encuentro en una situación similar?\n",
    "7. **Automatiza tus decisiones estratégicas**: En RL, las políticas ayudan al agente a tomar decisiones rápidas y efectivas. Crea tus propias \"políticas\" personales.\n",
    "   - *Ejemplo*: Si detectas un problema recurrente, diseña una estrategia clara para enfrentarlo en el futuro sin perder tiempo. En mi caso, tengo un vault de obsidian con una carpeta de \"estrategias\" donde guardo todas las estrategias que uso para resolver problemas recurrentes. También tengo piezas de proyectos pasados que puedo reutilizar en proyectos futuros (Siempre dejando espacio a la exploración y los ajustes).\n",
    "8. **Visualiza tu progreso**: Así como graficamos las recompensas del agente, detente y observa cómo has progresado. Mide tus logros y reflexiona sobre cuánto has crecido en los últimos tiempos.\n",
    "\n",
    "\n",
    "## Reflexión Final\n",
    "\n",
    "El aprendizaje por refuerzo nos enseña a tomar decisiones estratégicas y aprender continuamente. Nos invita a reflexionar sobre nuestras recompensas, explorar lo desconocido y ajustar nuestras estrategias para enfrentar un mundo dinámico.\n",
    "\n",
    "Cada acción que tomas es una oportunidad para aprender. Cada recompensa es un paso hacia algo más grande. Y cada \"fracaso\" es solo un episodio más en tu curva de aprendizaje.\n",
    "\n",
    "La vida está llena de desafíos, de palos que hay que equilibrar. No siempre lo haremos de la mejor forma. A veces se nos caerá el palo. Pero el verdadero truco está en seguir intentándolo, ajustando nuestras decisiones y aprovechando todo lo que aprendemos en el camino."
   ]
  },
  {
   "cell_type": "markdown",
   "metadata": {},
   "source": [
    "# Referencias y Recursos\n",
    "\n",
    "**Recursos internos**\n",
    "\n",
    "- [Manual de uso de estos notebooks](https://github.com/ManuelEspejo/Machine-Learning-Bases/blob/main/docs/manual-notebooks.md) \n",
    "- [Notebook 00: Empieza aquí](https://github.com/ManuelEspejo/Machine-Learning-Bases/blob/main/notebooks/00_Empieza-aquí.ipynb)\n",
    "- [Notebook 01: Aprendizaje Supervisado](https://github.com/ManuelEspejo/Machine-Learning-Bases/blob/main/notebooks/01_Aprendizaje-Supervisado.ipynb)\n",
    "- [Notebook 02: Aprendizaje No Supervisado](https://github.com/ManuelEspejo/Machine-Learning-Bases/blob/main/notebooks/02_Aprendizaje-No-Supervisado.ipynb)\n",
    "\n",
    "**Documentación**\n",
    "\n",
    "- [OpenAI Gym](https://gymnasium.farama.org/)\n",
    "\n",
    "**Otros recursos**\n",
    "\n",
    "- [Playground de RL](https://alazareva.github.io/rl_playground/#agentType=expectedSarsa&learningRate=0.5&epsilon=0.05&discount=0.9&showVisits=true&showQ=true) - Aquí puedes jugar con los parámetros de los algoritmos de RL en un entorno interactivo.\n",
    "- [Spinning Up](https://spinningup.openai.com/en/latest/index.html) - Una guía práctica para aprender RL, con implementaciones en PyTorch y TensorFlow. Por si quieres profundizar más a fondo en el tema."
   ]
  }
 ],
 "metadata": {
  "kernelspec": {
   "display_name": "TallerML",
   "language": "python",
   "name": "python3"
  },
  "language_info": {
   "codemirror_mode": {
    "name": "ipython",
    "version": 3
   },
   "file_extension": ".py",
   "mimetype": "text/x-python",
   "name": "python",
   "nbconvert_exporter": "python",
   "pygments_lexer": "ipython3",
   "version": "3.10.15"
  }
 },
 "nbformat": 4,
 "nbformat_minor": 2
}
