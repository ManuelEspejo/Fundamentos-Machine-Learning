{
 "cells": [
  {
   "cell_type": "markdown",
   "metadata": {},
   "source": [
    "## ¿Cómo usar estos notebooks?\n",
    "[![Abrir en Colab](https://colab.research.google.com/assets/colab-badge.svg)](https://colab.research.google.com/github/ManuelEspejo/Machine-Learning-Bases/blob/main/notebooks/00_Empieza-aquí.ipynb)\n",
    "\n",
    "**⭐​Importante⭐​​** Quiero que sepas que esto es un proyecto \"vivo\". La idea es actualizarlo constantemente escuchando a las personas no técnicas que aplican la IA a su trabajo, o todas las personas que estén empezando en este mundo. De sus preguntas y necesidades surgen los ejemplos que encontrarás aquí, pensados para que aprendas los conceptos fundamentales de esta revolución de manera clara, divertida y a tu ritmo. Por eso, si te interesa contribuir con tus dudas, sugerencias o cualquier otra idea que me quieras comentar, el fichero [README.md](https://github.com/ManuelEspejo/Machine-Learning-Bases/blob/main/README.md) tienes un apartado en el que te explico cómo puedes participar. ¡Estoy deseando escuchar tus sugerencias! Este proyecto es para todos, y entre todos lo vamos a hacer grande para ayudar a mucha más gente a introducirse en la IA por dentro.\n",
    "\n",
    "A continuación, te comparto tres rutas alternativas que puedes tomar en base a tus preferencias o intereses:\n",
    "\n",
    "- **🧪 Ruta del Científico 🧪 (Recomendada para maximizar el aprendizaje)**  \n",
    "  Estos notebooks están diseñados para un uso interactivo. Puedes hacer una copia en tu Google Drive y ejecutarlos en Google Colab, lo que te permitirá explorar, editar y experimentar. Para esto sólo tienes que pulsar el botón de [![Abrir en Colab](https://colab.research.google.com/assets/colab-badge.svg)](https://colab.research.google.com/github/ManuelEspejo/Machine-Learning-Bases/blob/main/notebooks/00_Empieza-aquí.ipynb) que encontrarás en la parte superior de cada notebook. Te recomiendo esta ruta para que puedas tomar apuntes en tus propias palabras e incluir información relevante.\n",
    "\n",
    "- **⏩ Ruta Pragmática ⏩ (Para quienes tienen poco tiempo o buscan algo específico)**  \n",
    "  Si tienes poco tiempo o buscas un concepto puntual, puedes leer los títulos y los índices de los notebooks y saltar a la sección que necesites. Cada notebook funciona de manera independiente, y los índices te ayudarán a ubicar lo que más te interese.\n",
    "\n",
    "- **🧭 Ruta del Explorador Curioso 🧭 (Para quienes prefieren descubrir el contenido sin orden específico)**  \n",
    "  Si eres de los que disfrutan explorando libremente, puedes saltar de una sección a otra o entre notebooks según tu curiosidad. Este enfoque te permitirá descubrir conceptos de IA a tu propio ritmo y encontrar conexiones interesantes, siguiendo el camino que más llame tu atención en cada momento.\n",
    "\n",
    "- **Info para los perfiles más técnicos**: Estos notebooks están pensados para ser lo más accesibles y editables posibles, tanto para público técnico como no técnico. Se puede ejecutar tanto en Google Colab como en local. En el fichero `README.md` encontrarás instrucciones por si quieres trabajar en local. Además, te invito a participar en este proyecto con tu experiencia y conocimientos, para conseguir entre todos que este repositorio sea lo más completo y útil posible, y que la gente pueda aprender a usar la IA de manera informada y segura.\n",
    "\n",
    "**Nota:** Este primer notebook es una introducción teórica para quien sea completamente nuevo en el tema, si es tu caso, te recomiendo que lo leas para que te vaya sonando los conceptos y te vayas familiarizando con ellos. En cada punto que lo necesite, encontrarás un enlace a un notebook práctico para que puedas ver cómo se aplica todo esto en la práctica. Iré ampliando estos notebooks con el tiempo en base a vuestras sugerencias y necesidades😊​\n",
    "\n",
    "### Sobre los ejemplos de código y la trazabilidad\n",
    "\n",
    "Como estos notebooks están pensados para distintos tipos de público, y hay gente que quiere saber de la IA pero no tiene conocimientos de programación, he intentado abstraer lo máximo posible los bloques de código, dejando en los notebooks lo básico para las visualizaciones y las exploraciones.\n",
    "\n",
    "Pero si quieres profundizar más en la programación subyacente, en la carpeta `utils` encontrarás los ficheros `helper_functions.py` que contienen las funciones que son llamadas en los notebooks.\n",
    "\n",
    "Esto no sólo es por el propósito de este proyecto, en mi trabajo me gusta mantener los notebooks lo más limpios posibles y utilizar scripts para todas las funciones que puedan ser reutilizables entre distintos notebooks, así no se extienden demasiado, se puede reutilizar el código, y siento que es mucho más claro y fácil a la hora de extender el trabajo y contribuir.\n",
    "\n",
    "Además, en `requirements.txt` encontrarás todas las librerías que necesitas para ejecutar los notebooks, con las versiones que he usado para que no haya problemas de compatibilidad."
   ]
  },
  {
   "cell_type": "markdown",
   "metadata": {},
   "source": [
    "# 00. Introducción al corazón de la IA: Machine Learning y Deep Learning\n",
    "\n",
    "La explosión de la IA generativa en los últimos años ha dado visibilidad a este campo como nunca antes. De repente, profesionales de distintas disciplinas están con la curiosidad al máximo, queriendo saber más sobre este mundo. Y no es para menos: la IA tiene un poder impresionante para mejorar la productividad, quitándonos de encima las tareas más aburridas y mecánicas, y dejándonos tiempo para centrarnos en lo que realmente nos gusta: lo creativo y estratégico, donde cada uno de nosotros puede aportar su toque humano único.\n",
    "\n",
    "La idea de esta serie de notebooks, es que puedas entender mejor la IA sin tener que meterte en algoritmos complejos y fórmulas densas. Aquí encontrarás los conceptos clave para que puedas usar cualquier herramienta de IA con confianza, de manera informada y adaptada a tus necesidades.\n",
    "\n",
    "Este material está hecho para ti, y te aseguro que va a dar un montón de ideas geniales sobre cómo puedes aprovechar los datos de tu negocio o los que te rodean en el día a día, y cómo sacarle todo el jugo a la IA.\n",
    "\n",
    "Aunque este repositorio es para todos, lo vas a disfrutar especialmente si te sientes identificado con alguna de las siguientes descripciones:\n",
    "\n",
    "- 👔 **Eres un profesional** que utiliza la IA para mejorar su negocio y entender sus datos.\n",
    "- 🤓 **Eres un apasionado de la IA** que quiere saber en profundidad cuáles son sus partes y cómo funcionan.\n",
    "- 🚀 **Estás empezando en el mundo de la IA** y quieres conocer algunos de los conceptos clave en acción, para desarrollar tu carrera profesional (dentro o fuera del ámbito técnico).\n",
    "\n",
    "✨ Espero que disfrutes este viaje de aprendizaje tanto como yo lo estoy haciendo al crearlo. ✨"
   ]
  },
  {
   "cell_type": "markdown",
   "metadata": {},
   "source": [
    "## 0.1. Índice\n",
    "\n",
    "..."
   ]
  },
  {
   "cell_type": "markdown",
   "metadata": {},
   "source": [
    "## 1. La Importancia de comprender las bases de la IA para aplicarla con éxito\n",
    "\n",
    "En los últimos años, la inteligencia artificial ha pasado de ser un campo reservado para expertos en programación y estadística a una herramienta accesible para todos. Gracias a modelos avanzados, como los **Large Language Models (LLMs)**, y a herramientas como **ChatGPT, Midjourney o Suno**, hoy cualquier persona con una conexión a internet puede empezar a utilizar IA de forma práctica y útil en su día a día.\n",
    "\n",
    "Esto ha revolucionado el acceso a la IA y ha dado a muchas personas áltamente creativas sin conocimientos técnicos la oportunidad de llevar a cabo sus ideas y mejorar sus trabajos o proyectos de forma significativa. Sin embargo, esta facilidad también viene de la mano con algunos desafíos y limitaciones.\n",
    "\n",
    "### ¿Por qué deberías profundizar en el entendimiento de la IA?\n",
    "\n",
    "Cualquiera que haya profundizado un poco en el uso de las herramientas de IA, sabrá que, si bien podemos obtener buenos resultados muy fácilmente, obtener resultados verdaderamente sobresalientes requiere algo más de profundidad y entendimiento. Entendimiento que consigues a medida que la usas y te das cuenta de cómo funciona y cómo percibe la realidad. Empiezas a entender la importancia del contexto, de los datos, y empiezas a ver muchas más oportunidades.\n",
    "\n",
    "Entender la IA por dentro, hace que este entendimiento se multiplique, y por lo tanto, te permite sacarle mucho más partido, y ver por qué realmente lo que has aprendido que funciona está funcionando.\n",
    "\n",
    "Aquí tienes los puntos con un emoji añadido para enfatizar cada beneficio:\n",
    "\n",
    "\n",
    "Gracias a esto, podrás:\n",
    "\n",
    "- 🤖 **Entender cómo piensa la IA** y diseñar prompts mucho más efectivos y adaptarlos a tus necesidades.\n",
    "- 🔗 **Aprovechar las integraciones** de las distintas herramientas de IA para sacarles mayor rendimiento.\n",
    "- 📊 **Identificar los datos a tu alrededor**, ya sea en tu negocio o en tu vida, y comprender qué puede hacer la IA con ellos.\n",
    "- 🚫 **Reconocer las limitaciones de la IA** y las circunstancias en las que puede que no sea la mejor opción.\n",
    "- 🛠️ **Elegir el modelo o herramienta adecuada** para tu caso y tus necesidades.\n",
    "- 💡 **Descubrir nuevas soluciones y oportunidades** que no habías considerado, resolviendo problemas de formas innovadoras.\n",
    "\n",
    "En definitiva, entender cómo funciona todo esto, te permite aplicar la IA en aquello que haces en tu día a día de manera mucho más informada, segura y efectiva. Permitiéndote que, cuando esto sea algo que usemos todos, no seas uno más de los que se quedan en dar al botón y dejar que haga todo por sí solo, sino que seas de los que diseñan sus soluciones propias adaptadas a las necesidades de tu sector.\n",
    "\n",
    "Hay muchas más razones para continuar en este viaje de aprendizaje, algunas de ellas las irás descubriendo a medida que avances en este contenido.\n",
    "\n",
    "La IA ya no es opcional, es una realidad que transformará la forma en que trabajamos y vivimos. Uno de los principales objetivos de esto es que te sientas seguro usando IA en tu campo, no solo como consumidor, sino como alguien que comprende y aprovecha su verdadero potencial.\n",
    "\n",
    "Este conocimiento será clave para quienes quieran liderar en sus respectivos sectores en el futuro. Y la oportunidad de construir esa base comienza aquí.\n"
   ]
  },
  {
   "cell_type": "markdown",
   "metadata": {},
   "source": [
    "## 2. ¿Qué es la IA, el Machine Learning y el Deep Learning?\n",
    "\n",
    "Los notebooks están diseñados para ser entendidos de manera aislada, pero he considerado que hay algunos conceptos clave que es interesante que sepas antes de meterte con los ejemplos prácticos, porque te ayudarán a entender mejor el porqué de cada cosa. Vamos a profundizar en estas bases."
   ]
  },
  {
   "cell_type": "markdown",
   "metadata": {
    "vscode": {
     "languageId": "plaintext"
    }
   },
   "source": [
    "### 2.1. Inteligencia Artificial\n",
    "\n",
    "> **Inteligencia Artificial**: \"Es un campo de la informática que se enfoca en crear sistemas que puedan realizar tareas que normalmente requieren inteligencia humana, como el aprendizaje, el razonamiento y la percepción\"\n",
    "\n",
    "Se ha definido a la IA de muchas formas, y sus definiciones suelen ser un poco ambiguas, y uno de los principales motivos es el concepto de \"inteligencia\" que también es bastante amplio y ambiguo.\n",
    "\n",
    "Para entenderlo bien, tendríamos que empezar a profundizar en preguntas con tintes más filosóficos en algunos casos, como:\n",
    "\n",
    "**¿Qué es la inteligencia?**\n",
    "\n",
    "**¿Es la IA Inteligente verdaderamente?**\n",
    "\n",
    "**¿Puede ser la IA inteligente?**\n",
    "\n",
    "**En el caso de que la IA fuera inteligente, ¿todas las IAs serían inteligentes?**\n",
    "\n",
    "**¿Puede existir inteligencia sin consciencia?**\n",
    "\n",
    "Como vemos, el concepto de \"Inteligencia Artificial\" no es algo literal, es una aproximación, es una forma de decir que es la capacidad de las máquinas para imitar comportamientos humanos. Se busca imitar estos comportamientos para completar tareas, en algunos casos con mayor éxito y en otros casos menos. En algunos casos más indistinguible de lo que podría hacer un humano y en otros más obvio, incluso superando capacidades humanas.\n",
    "\n",
    "La Inteligencia Artificial es un área bastante amplia realmente, y dentro de ella podemos encontrar distintos campos, todos enfocados en esta idea:\n",
    "- **Robótica**: Replicar lo que puede hacer un humano de forma manual.\n",
    "  - *Ejemplo*: Un robot que pueda mover objetos, o incluso personas, de manera similar a como lo haría un humano.\n",
    "- **Visión computacional**: Replicar la visión humana.\n",
    "  - *Ejemplo*: Un sistema que pueda detectar objetos, personas, o incluso emociones en tiempo real.\n",
    "- **Machine Learning**: Replicar el cerebro humano, y tareas que puede hacer con intelecto.\n",
    "  - *Ejemplo*: Un sistema que pueda aprender a jugar al ajedrez, o a detectar fraudes en una tarjeta de crédito.\n",
    "- **Vida Artificial**: Replicar la vida misma, sistemas vivos o aspectos fundamentales de la vida, como puede ser la reproducción, la evolución, el aprendizaje, la adaptación, etc.\n",
    "  - *Ejemplo*: Un sistema que pueda simular la evolución de una población de organismos, o algoritmos genéticos que imitan el proceso de selección natural para resolver un problema."
   ]
  },
  {
   "cell_type": "markdown",
   "metadata": {},
   "source": [
    "### 2.2. Machine Learning\n",
    "\n",
    "> **Machine Learning (Aprendizaje Automático)**: \"El Machine Learning es el campo de estudio que da la capacidad a las computadoras de aprender sin ser explícitamente programadas para ello.\" - Arthur Samuel (1959)\n",
    "\n",
    "**¿Y qué es programar?**\n",
    "\n",
    "Programar es definir un conjunto de reglas que le indican a un ordenador cómo tiene que actuar cuando se den unas condiciones determinadas.\n",
    "\n",
    "Por lo tanto, en el machine learning, al quitar este factor, estamos diciendo que el ordenador es el que toma decisiones en base a los datos que está viendo.\n",
    "\n",
    "Un modelo de Machine Learning o *algoritmo*, es capaz de analizar los datos que recibe, detectar patrones a base de mirar esos datos durante el suficiente tiempo, obteniendo una experiencia que le permite resolver una tarea determinada en base a lo aprendido.\n",
    "\n",
    "Como podrás ver, es un proceso bastante similar al aprendizaje humano, y es algo que se puede ver muy bien en [cómo aprenden los niños](https://www.cogmed.com/articles/the-similarities-between-the-learning-of-children-and-ai).\n",
    "\n",
    "El Machine Learning es una Subárea de la Inteligencia Artificial, y dentro de él, encontramos a su vez distintas áreas. Una de ellas es el Deep Learning.\n"
   ]
  },
  {
   "cell_type": "markdown",
   "metadata": {},
   "source": [
    "### 2.3. Deep Learning\n",
    "\n",
    "> **Deep Learning (Aprendizaje Profundo)**: \"El Deep Learning es una rama del Machine Learning, que se centra en el uso de las **Redes Neuronales Artificiales** para encontrar patrones en datos no estructurados y resolver tareas a partir de ellos.\"\n",
    "\n",
    "El Deep Learning está profundamente inspirado en el funcionamiento del cerebro humano, pero a pesar de sus similitudes, no podemos usarlo como referencia directa, pues existen ciertas [diferencias fundamentales clave](https://towardsdatascience.com/the-differences-between-artificial-and-biological-neural-networks-a8b46db828b7).\n",
    "\n",
    "Sin embargo, sí tiene unas similitudes claras que pueden ayudarnos a entenderlo:\n",
    "- **Conexiones**: Las *Redes Neuronales Artificiales (ANN)* imitan el funcionamiento de las *Redes Neuronales Biológicas (BNN)* de manera amplia. Están compuestas por *neuronas artificiales* interconectadas que procesan y transmiten información de manera similar a las *neuronas biológicas*.\n",
    "- **Procesamiento jerárquico**: Tanto el cerebro como las redes de Deep Learning procesan la información de manera jerárquica. Construyen representaciones cada vez más complejas a partir de elementos más simples.\n",
    "- **Aprendizaje autónomo**: Al igual que el cerebro, los modelos de Deep Learning pueden aprender y mejorar de forma autónoma, adaptándose a nuevas situaciones y datos.\n",
    "\n",
    "Así como el Machine Learning nos ayuda a entender mejor cómo funciona el aprendizaje humano y viceversa, con el Deep Learning ocurre [lo mismo](https://www.cenetherlands.nl/revolucionando-la-neurociencia-con-el-deep-learning/) en relacion al cerebro."
   ]
  },
  {
   "cell_type": "markdown",
   "metadata": {},
   "source": [
    "## 3. Machine Learning: Tipos de Aprendizaje\n",
    "\n",
    "Cuando hablamos de Machine Learning, estamos hablando del aprendizaje de las computadoras, por lo tanto, el machine learning se divide en distintos tipos de aprendizaje:\n",
    "\n",
    "1. **Aprendizaje Supervisado**: Cuando tenemos datos etiquetados.\n",
    "2. **Aprendizaje no Supervisado**: Cuando tenemos datos sin etiquetar.\n",
    "3. **Aprendizaje Semi-Supervisado**: Cuando tenemos datos etiquetados y sin etiquetar.\n",
    "4. **Aprendizaje por refuerzo**: Se da a través de la experiencia.\n",
    "\n",
    "Vamos a profundizar un poco en cada uno de estos tipos de aprendizaje."
   ]
  },
  {
   "cell_type": "markdown",
   "metadata": {},
   "source": [
    "### 3.1. Aprendizaje Supervisado \n",
    "\n",
    ">💻 **Notebook práctico**: [01_Aprendizaje-Supervisado.ipynb](https://github.com/ManuelEspejo/Machine-Learning-Bases/blob/main/notebooks/01_Aprendizaje-Supervisado.ipynb)\n",
    "\n",
    "El **Aprendizaje Supervisado** utiliza un conjunto de datos etiquetados para entrenar un modelo, esto significa que cada entrada de datos tiene una etiqueta que describe este dato.\n",
    "\n",
    "Estas etiquetas podemos entenderlas como las etiquetas que encontramos en una tienda: indican al modelo qué es eso que está viendo.\n",
    "\n",
    "Las dos principales tareas de aprendizaje supervisado que podemos encontrarnos son:\n",
    "\n",
    "- **Clasificación**: Predecir a qué clase pertenece un dato.\n",
    "  - **Clasificación Binaria**: Cuando sólo hay dos clases posibles (por ejemplo, \"spam\" o \"no spam\").\n",
    "  - **Clasificación Multiclase**: Cuando hay más de dos clases posibles (por ejemplo, \"perro\", \"gato\" o \"pájaro\"). Podemos tener tantas clases como necesitemos.\n",
    "  - **Clasificación Multilabel**: Cuando hay más de una etiqueta posible para un dato (por ejemplo, una película puede ser de acción, comedia, ciencia ficción, etc.).\n",
    "- **Regresión**: Predecir un valor numérico (por ejemplo, la temperatura, el precio, etc.).\n",
    "  - **Regresión Lineal**: Cuando la relación entre las variables es lineal (una línea recta).\n",
    "\n",
    "Vamos a ver un ejemplo de clasificación binaria para profundizar en alguno de los conceptos clave.\n",
    "\n",
    "#### Ejemplo de aprendizaje supervisado: Problema de clasificación binaria\n",
    "\n",
    "Supongamos que tenemos un conjunto de imágenes etiquetadas con dos animales distintos: osos y tigres. Este sería un problema de clasificación binaria porque sólo hay dos clases posibles: \"oso\" y \"tigre\". A continuación, lo vemos de manera gráfica:\n",
    "\n",
    "<img src=\"https://raw.githubusercontent.com/ManuelEspejo/Machine-Learning-Bases/main/docs/imgs/IMG_Ej-Labels-OsoTigre.png\" alt=\"Descripción de la imagen\" width=\"1000\">\n",
    "\n",
    "> Imágenes Generadas con DALL-E 3. Diagrama montado con Excalidraw.\n",
    "\n",
    "Para este ejemplo:\n",
    "- **Etiquetas**: Las etiquetas indican a qué clase pertenece cada imagen.\n",
    "- **Traducción de las etiquetas**: Para que el modelo lo entienda bien, traducimos las etiquetas a números: \"oso\" -> 0, \"tigre\" -> 1. Los modelos de Machine Learning interpretan los datos mejor cuando son numéricos.\n"
   ]
  },
  {
   "cell_type": "markdown",
   "metadata": {
    "vscode": {
     "languageId": "plaintext"
    }
   },
   "source": [
    "Una vez tenemos este mapeo hecho, entrenamos al modelo con estos datos y estas etiquetas, y luego lo usamos con imágenes sin etiquetar para que pueda clasificarlas y ver su precisión en la tarea.\n",
    "\n",
    "Para entrenar al modelo, necesitamos dividir nuestros datos en dos grupos:\n",
    "\n",
    "- **Conjunto de Entrenamiento**: El conjunto de entrenamiento (Training Set) es el que el modelo utiliza para \"aprender\" y para ello necesita tener tanto las características como las etiquetas a las que corresponden. Gracias a mirar estos datos, el modelo puede descubrir los patrones que relacionan las características con las etiquetas.\n",
    "- **Conjunto de Prueba**: El conjunto de prueba (Test Set), en cambio, es el que utilizamos para evaluar el modelo, es decir, para ver si el modelo es capaz de generalizar a partir de los datos que ha visto durante el entrenamiento. En este caso, no le enseñamos las etiquetas, le damos los datos y él nos dice la etiqueta que corresponde a esos datos.\n",
    "\n",
    "**¿Por qué es importante hacer esta separación?**\n",
    "\n",
    "1. **Evitar la Memorización**: Si no dividimos los datos y le damos al modelo acceso a toda la información, es probable que acabe memorizando en lugar de aprender patrones. Esto significa que, a la hora de evaluarlo, no sabríamos si el modelo realmente ha aprendido a generalizar o si solo está repitiendo respuestas basadas en lo que ya ha visto.\n",
    "2. **Evitar el Sesgo Humano**: Esta separación también es importante para evitar nuestro propio sesgo humano. Solemos ser bastante buenos encontrando patrones (tengan sentido o no), y si miramos el conjunto de prueba antes de tiempo, podríamos, sin darnos cuenta, ajustar el modelo en función de esos datos. Es decir, podríamos estar \"dando pistas\" al modelo de forma involuntaria. Para evitar esto, la división se hace antes de explorar los datos en profundidad y solo miramos el conjunto de entrenamiento.\n",
    "\n",
    "Generalmente, el conjunto de entrenamiento suele ser un 70-80% de los datos, y el conjunto de prueba el 20-30% restante. Esto es porque queremos que el modelo tenga suficientes datos para \"aprender\" y poder generalizar, pero también que tenga datos suficientes para evaluar si está aprendiendo realmente.\n",
    "\n",
    "El tamaño de las divisiones puede variar en base a la cantidad de datos, pero en general, un 80/20 suele ser una buena proporción.\n",
    "\n",
    "<img src=\"https://raw.githubusercontent.com/ManuelEspejo/Machine-Learning-Bases/main/docs/imgs/IMG_Ej-Superv-Learning-oso-tigre.png\" alt=\"Descripción de la imagen\" width=\"1000\">\n",
    "\n",
    "> Imágenes Generadas con DALL-E 3. Diagrama montado con Excalidraw. (Inspirado en el diagrama de [Machine Learning For Humans Part 2.2: Supervised Learning II](https://everythingcomputerscience.com/books/Machine%20Learning%20for%20Humans.pdf))\n",
    "\n",
    "\n",
    "Idealmente, después de que nuestro modelo haya entrenado y aprendido lo suficiente, debería ser capaz de distinguir entre un oso y un tigre, y eso es lo que se evalúa en el conjunto de prueba."
   ]
  },
  {
   "cell_type": "markdown",
   "metadata": {},
   "source": [
    "Esto sería un problema de muestra, pero la clasificación no es algo exclusivo de las imágenes.\n",
    "\n",
    "Otros ejemplos de clasificación binaria:\n",
    "- **Detección de Spam en Correos**: Identificar si un correo es \"Spam\" o \"No Spam\".\n",
    "- **Clasificación de Reseñas de Productos**: Determinar si una reseña es \"Positiva\" o \"Negativa\".\n",
    "- **Detección de Fraude en Transacciones Bancarias**: Identificar si una transacción es \"Fraudulenta\" o \"No Fraudulenta\".\n",
    "- **Clasificación de Pacientes con Diabetes**: Determinar si un paciente es propenso a la diabetes; \"Diabético\" o \"No Diabético\".\n",
    "\n",
    "Como puedes ver, en base al tipo de datos, la clasificación se enfocará en unas características u otras para hacer la distinción entre clases.\n",
    "\n",
    "**Nota:** Para profundizar más en el aprendizaje supervisado, y ver todo esto en la práctica, puedes saltar al notebook [01_Aprendizaje-Supervisado.ipynb](https://github.com/ManuelEspejo/Machine-Learning-Bases/blob/main/notebooks/01_Aprendizaje-Supervisado.ipynb)."
   ]
  },
  {
   "cell_type": "markdown",
   "metadata": {
    "vscode": {
     "languageId": "plaintext"
    }
   },
   "source": [
    "### 3.2. Aprendizaje no Supervisado\n",
    "\n",
    ">💻 **Notebook práctico**: [02_Aprendizaje-No-Supervisado.ipynb](https://github.com/ManuelEspejo/Machine-Learning-Bases/blob/main/notebooks/02_Aprendizaje-No-Supervisado.ipynb)\n",
    "\n"
   ]
  }
 ],
 "metadata": {
  "language_info": {
   "name": "python"
  }
 },
 "nbformat": 4,
 "nbformat_minor": 2
}
