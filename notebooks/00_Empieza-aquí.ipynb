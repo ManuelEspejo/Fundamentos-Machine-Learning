{
 "cells": [
  {
   "cell_type": "markdown",
   "metadata": {},
   "source": [
    "[![Abrir en Colab](https://colab.research.google.com/assets/colab-badge.svg)](https://colab.research.google.com/github/ManuelEspejo/Machine-Learning-Bases/blob/main/notebooks/00_Empieza-aquí.ipynb) 👈🏻​ Pulsar para abrir en Colab​\n",
    "\n",
    "# ¿Cómo usar estos notebooks?\n",
    "\n",
    "Si este es el primer notebook que abres en este repositorio, te recomiendo que antes leas el [Manual de uso de los notebooks](https://github.com/ManuelEspejo/Machine-Learning-Bases/blob/main/docs/manual-notebooks.md) para que te familiarices con el proyecto y las distintas rutas que puedes seguir, luego puedes volver aquí y continuar.\n",
    "\n",
    "Este primer notebook es una introducción teórica para quien sea completamente nuevo en el tema, si es tu caso, te recomiendo que lo leas para que te vaya sonando los conceptos y te vayas familiarizando con ellos. En cada punto que lo necesite, encontrarás un enlace a un notebook práctico para que puedas ver cómo se aplica todo esto en la práctica. Iré ampliando estos notebooks con el tiempo en base a vuestras sugerencias y necesidades😊​"
   ]
  },
  {
   "cell_type": "markdown",
   "metadata": {},
   "source": [
    "# 00. Introducción al corazón de la IA: Machine Learning y Deep Learning\n",
    "\n",
    "La explosión de la IA generativa en los últimos años ha dado visibilidad a este campo como nunca antes. De repente, profesionales de distintas disciplinas están con la curiosidad al máximo, queriendo saber más sobre este mundo. Y no es para menos: la IA tiene un poder impresionante para mejorar la productividad, quitándonos de encima las tareas más aburridas y mecánicas, y dejándonos tiempo para centrarnos en lo que realmente nos gusta: lo creativo y estratégico, donde cada uno de nosotros puede aportar su toque humano único.\n",
    "\n",
    "La idea de esta serie de notebooks, es que puedas entender mejor la IA sin tener que meterte en algoritmos complejos y fórmulas densas. Aquí encontrarás los conceptos clave para que puedas usar cualquier herramienta de IA con confianza, de manera informada y adaptada a tus necesidades.\n",
    "\n",
    "Este material está hecho para ti, y te aseguro que va a dar un montón de ideas geniales sobre cómo puedes aprovechar los datos de tu negocio o los que te rodean en el día a día, y cómo sacarle todo el jugo a la IA.\n",
    "\n",
    "Aunque este repositorio es para todos, lo vas a disfrutar especialmente si te sientes identificado con alguna de las siguientes descripciones:\n",
    "\n",
    "- 👔 **Eres un profesional** que utiliza la IA para mejorar su negocio y entender sus datos.\n",
    "- 🤓 **Eres un apasionado de la IA** que quiere saber en profundidad cuáles son sus partes y cómo funcionan.\n",
    "- 🚀 **Estás empezando en el mundo de la IA** y quieres conocer algunos de los conceptos clave en acción, para desarrollar tu carrera profesional (dentro o fuera del ámbito técnico).\n",
    "\n",
    "✨ Espero que disfrutes este viaje de aprendizaje tanto como yo lo estoy haciendo al crearlo. ✨"
   ]
  },
  {
   "cell_type": "markdown",
   "metadata": {},
   "source": [
    "## 0.1. Índice\n",
    "\n",
    "\n",
    "- 1. La Importancia de comprender las bases de la IA para aplicarla con éxito\n",
    "- 2. ¿Qué es la IA, el Machine Learning y el Deep Learning?\n",
    "    - 2.1. Inteligencia Artificial\n",
    "    - 2.2. Machine Learning\n",
    "    - 2.3. Deep Learning\n",
    "- 3. Machine Learning: Tipos de Aprendizaje\n",
    "    - 3.1. Aprendizaje Supervisado\n",
    "    - 3.2. Aprendizaje no Supervisado"
   ]
  },
  {
   "cell_type": "markdown",
   "metadata": {},
   "source": [
    "<a id=\"seccion1\"></a>\n",
    "## 1. La Importancia de comprender las bases de la IA para aplicarla con éxito\n",
    "\n",
    "En los últimos años, la inteligencia artificial ha pasado de ser un campo reservado para expertos en programación y estadística a una herramienta accesible para todos. Gracias a modelos avanzados, como los **Large Language Models (LLMs)**, y a herramientas como **ChatGPT, Midjourney o Suno**, hoy cualquier persona con una conexión a internet puede empezar a utilizar IA de forma práctica y útil en su día a día.\n",
    "\n",
    "Esto ha revolucionado el acceso a la IA y ha dado a muchas personas áltamente creativas sin conocimientos técnicos la oportunidad de llevar a cabo sus ideas y mejorar sus trabajos o proyectos de forma significativa. Sin embargo, esta facilidad también viene de la mano con algunos desafíos y limitaciones.\n",
    "\n",
    "### ¿Por qué deberías profundizar en el entendimiento de la IA?\n",
    "\n",
    "Cualquiera que haya profundizado un poco en el uso de las herramientas de IA, sabrá que, si bien podemos obtener buenos resultados muy fácilmente, obtener resultados verdaderamente sobresalientes requiere algo más de profundidad y entendimiento. Entendimiento que consigues a medida que la usas y te das cuenta de cómo funciona y cómo percibe la realidad. Empiezas a entender la importancia del contexto, de los datos, y empiezas a ver muchas más oportunidades.\n",
    "\n",
    "Entender la IA por dentro, hace que este entendimiento se multiplique, y por lo tanto, te permite sacarle mucho más partido, y ver por qué realmente lo que has aprendido que funciona está funcionando.\n",
    "\n",
    "Aquí tienes los puntos con un emoji añadido para enfatizar cada beneficio:\n",
    "\n",
    "\n",
    "Gracias a esto, podrás:\n",
    "\n",
    "- 🤖 **Entender cómo piensa la IA** y diseñar prompts mucho más efectivos y adaptarlos a tus necesidades.\n",
    "- 🔗 **Aprovechar las integraciones** de las distintas herramientas de IA para sacarles mayor rendimiento.\n",
    "- 📊 **Identificar los datos a tu alrededor**, ya sea en tu negocio o en tu vida, y comprender qué puede hacer la IA con ellos.\n",
    "- 🚫 **Reconocer las limitaciones de la IA** y las circunstancias en las que puede que no sea la mejor opción.\n",
    "- 🛠️ **Elegir el modelo o herramienta adecuada** para tu caso y tus necesidades.\n",
    "- 💡 **Descubrir nuevas soluciones y oportunidades** que no habías considerado, resolviendo problemas de formas innovadoras.\n",
    "\n",
    "En definitiva, entender cómo funciona todo esto, te permite aplicar la IA en aquello que haces en tu día a día de manera mucho más informada, segura y efectiva. Permitiéndote que, cuando esto sea algo que usemos todos, no seas uno más de los que se quedan en dar al botón y dejar que haga todo por sí solo, sino que seas de los que diseñan sus soluciones propias adaptadas a las necesidades de tu sector.\n",
    "\n",
    "Hay muchas más razones para continuar en este viaje de aprendizaje, algunas de ellas las irás descubriendo a medida que avances en este contenido.\n",
    "\n",
    "La IA ya no es opcional, es una realidad que transformará la forma en que trabajamos y vivimos. Uno de los principales objetivos de esto es que te sientas seguro usando IA en tu campo, no solo como consumidor, sino como alguien que comprende y aprovecha su verdadero potencial.\n",
    "\n",
    "Este conocimiento será clave para quienes quieran liderar en sus respectivos sectores en el futuro. Y la oportunidad de construir esa base comienza aquí.\n"
   ]
  },
  {
   "cell_type": "markdown",
   "metadata": {},
   "source": [
    "<a id=\"seccion2\"></a>\n",
    "## 2. ¿Qué es la IA, el Machine Learning y el Deep Learning?\n",
    "\n",
    "Los notebooks están diseñados para ser entendidos de manera aislada, pero he considerado que hay algunos conceptos clave que es interesante que sepas antes de meterte con los ejemplos prácticos, porque te ayudarán a entender mejor el porqué de cada cosa. Vamos a profundizar en estas bases."
   ]
  },
  {
   "cell_type": "markdown",
   "metadata": {
    "vscode": {
     "languageId": "plaintext"
    }
   },
   "source": [
    "### 2.1. Inteligencia Artificial\n",
    "\n",
    "> **Inteligencia Artificial**: \"Es un campo de la informática que se enfoca en crear sistemas que puedan realizar tareas que normalmente requieren inteligencia humana, como el aprendizaje, el razonamiento y la percepción\"\n",
    "\n",
    "Se ha definido a la IA de muchas formas, y sus definiciones suelen ser un poco ambiguas, y uno de los principales motivos es el concepto de \"inteligencia\" que también es bastante amplio y ambiguo.\n",
    "\n",
    "Para entenderlo bien, tendríamos que empezar a profundizar en preguntas con tintes más filosóficos en algunos casos, como:\n",
    "\n",
    "**¿Qué es la inteligencia?**\n",
    "\n",
    "**¿Es la IA Inteligente verdaderamente?**\n",
    "\n",
    "**¿Puede ser la IA inteligente?**\n",
    "\n",
    "**En el caso de que la IA fuera inteligente, ¿todas las IAs serían inteligentes?**\n",
    "\n",
    "**¿Puede existir inteligencia sin consciencia?**\n",
    "\n",
    "Como vemos, el concepto de \"Inteligencia Artificial\" no es algo literal, es una aproximación, es una forma de decir que es la capacidad de las máquinas para imitar comportamientos humanos. Se busca imitar estos comportamientos para completar tareas, en algunos casos con mayor éxito y en otros casos menos. En algunos casos más indistinguible de lo que podría hacer un humano y en otros más obvio, incluso superando capacidades humanas.\n",
    "\n",
    "La Inteligencia Artificial es un área bastante amplia realmente, y dentro de ella podemos encontrar distintos campos, todos enfocados en esta idea:\n",
    "- **Robótica**: Replicar lo que puede hacer un humano de forma manual.\n",
    "  - *Ejemplo*: Un robot que pueda mover objetos, o incluso personas, de manera similar a como lo haría un humano.\n",
    "- **Visión computacional**: Replicar la visión humana.\n",
    "  - *Ejemplo*: Un sistema que pueda detectar objetos, personas, o incluso emociones en tiempo real.\n",
    "- **Machine Learning**: Replicar el cerebro humano, y tareas que puede hacer con intelecto.\n",
    "  - *Ejemplo*: Un sistema que pueda aprender a jugar al ajedrez, o a detectar fraudes en una tarjeta de crédito.\n",
    "- **Vida Artificial**: Replicar la vida misma, sistemas vivos o aspectos fundamentales de la vida, como puede ser la reproducción, la evolución, el aprendizaje, la adaptación, etc.\n",
    "  - *Ejemplo*: Un sistema que pueda simular la evolución de una población de organismos, o algoritmos genéticos que imitan el proceso de selección natural para resolver un problema."
   ]
  },
  {
   "cell_type": "markdown",
   "metadata": {},
   "source": [
    "### 2.2. Machine Learning\n",
    "\n",
    "> **Machine Learning (Aprendizaje Automático)**: \"El Machine Learning es el campo de estudio que da la capacidad a las computadoras de aprender sin ser explícitamente programadas para ello.\" - Arthur Samuel (1959)\n",
    "\n",
    "**¿Y qué es programar?**\n",
    "\n",
    "Programar es definir un conjunto de reglas que le indican a un ordenador cómo tiene que actuar cuando se den unas condiciones determinadas.\n",
    "\n",
    "Por lo tanto, en el machine learning, al quitar este factor, estamos diciendo que el ordenador es el que toma decisiones en base a los datos que está viendo.\n",
    "\n",
    "Un modelo de Machine Learning o *algoritmo*, es capaz de analizar los datos que recibe, detectar patrones a base de mirar esos datos durante el suficiente tiempo, obteniendo una experiencia que le permite resolver una tarea determinada en base a lo aprendido.\n",
    "\n",
    "Como podrás ver, es un proceso bastante similar al aprendizaje humano, y es algo que se puede ver muy bien en [cómo aprenden los niños](https://www.cogmed.com/articles/the-similarities-between-the-learning-of-children-and-ai).\n",
    "\n",
    "El Machine Learning es una Subárea de la Inteligencia Artificial, y dentro de él, encontramos a su vez distintas áreas. Una de ellas es el Deep Learning.\n"
   ]
  },
  {
   "cell_type": "markdown",
   "metadata": {},
   "source": [
    "### 2.3. Deep Learning\n",
    "\n",
    "> **Deep Learning (Aprendizaje Profundo)**: \"El Deep Learning es una rama del Machine Learning, que se centra en el uso de las **Redes Neuronales Artificiales** para encontrar patrones en datos no estructurados y resolver tareas a partir de ellos.\"\n",
    "\n",
    "El Deep Learning está profundamente inspirado en el funcionamiento del cerebro humano, pero a pesar de sus similitudes, no podemos usarlo como referencia directa, pues existen ciertas [diferencias fundamentales clave](https://towardsdatascience.com/the-differences-between-artificial-and-biological-neural-networks-a8b46db828b7).\n",
    "\n",
    "Sin embargo, sí tiene unas similitudes claras que pueden ayudarnos a entenderlo:\n",
    "- **Conexiones**: Las *Redes Neuronales Artificiales (ANN)* imitan el funcionamiento de las *Redes Neuronales Biológicas (BNN)* de manera amplia. Están compuestas por *neuronas artificiales* interconectadas que procesan y transmiten información de manera similar a las *neuronas biológicas*.\n",
    "- **Procesamiento jerárquico**: Tanto el cerebro como las redes de Deep Learning procesan la información de manera jerárquica. Construyen representaciones cada vez más complejas a partir de elementos más simples.\n",
    "- **Aprendizaje autónomo**: Al igual que el cerebro, los modelos de Deep Learning pueden aprender y mejorar de forma autónoma, adaptándose a nuevas situaciones y datos.\n",
    "\n",
    "Así como el Machine Learning nos ayuda a entender mejor cómo funciona el aprendizaje humano y viceversa, con el Deep Learning ocurre [lo mismo](https://www.cenetherlands.nl/revolucionando-la-neurociencia-con-el-deep-learning/) en relacion al cerebro."
   ]
  },
  {
   "cell_type": "markdown",
   "metadata": {},
   "source": [
    "## 3. Machine Learning: Tipos de Aprendizaje\n",
    "\n",
    "Cuando hablamos de Machine Learning, estamos hablando del aprendizaje de las computadoras, por lo tanto, el machine learning se divide en distintos tipos de aprendizaje:\n",
    "\n",
    "1. **Aprendizaje Supervisado**: Cuando tenemos datos etiquetados.\n",
    "2. **Aprendizaje no Supervisado**: Cuando tenemos datos sin etiquetar.\n",
    "3. **Aprendizaje Semi-Supervisado**: Cuando tenemos datos etiquetados y sin etiquetar.\n",
    "4. **Aprendizaje Auto-Supervisado**: Cuando usamos modelos para etiquetar datos que estaban previamente sin etiquetar.\n",
    "5. **Aprendizaje por refuerzo**: Se da a través de la experiencia.\n",
    "\n",
    "Vamos a profundizar un poco en cada uno de estos tipos de aprendizaje."
   ]
  },
  {
   "cell_type": "markdown",
   "metadata": {},
   "source": [
    "### 3.1. Aprendizaje Supervisado \n",
    "\n",
    ">💻 **Notebook práctico**: [01_Aprendizaje-Supervisado.ipynb](https://github.com/ManuelEspejo/Machine-Learning-Bases/blob/main/notebooks/01_Aprendizaje-Supervisado.ipynb)\n",
    "\n",
    "El **Aprendizaje Supervisado** utiliza un conjunto de datos etiquetados para entrenar un modelo, esto significa que cada entrada de datos tiene una etiqueta que describe este dato.\n",
    "\n",
    "Estas etiquetas podemos entenderlas como las etiquetas que encontramos en una tienda: indican al modelo qué es eso que está viendo.\n",
    "\n",
    "#### Tareas de aprendizaje supervisado\n",
    "\n",
    "Las dos principales tareas de aprendizaje supervisado que podemos encontrarnos son:\n",
    "\n",
    "- **Clasificación**: Predecir a qué clase pertenece un dato.\n",
    "  - **Clasificación Binaria**: Cuando sólo hay dos clases posibles (por ejemplo, \"spam\" o \"no spam\").\n",
    "  - **Clasificación Multiclase**: Cuando hay más de dos clases posibles (por ejemplo, \"perro\", \"gato\" o \"pájaro\"). Podemos tener tantas clases como necesitemos.\n",
    "  - **Clasificación Multilabel**: Cuando hay más de una etiqueta posible para un dato (por ejemplo, una película puede ser de acción, comedia, ciencia ficción, etc.).\n",
    "- **Regresión**: Predecir un valor numérico (por ejemplo, la temperatura, el precio, etc.).\n",
    "  - **Regresión Lineal**: Cuando la relación entre las variables es lineal (una línea recta).\n",
    "\n",
    "Vamos a ver un ejemplo de clasificación binaria para profundizar en alguno de los conceptos clave.\n",
    "\n",
    "#### Ejemplo de aprendizaje supervisado: Problema de clasificación binaria\n",
    "\n",
    "Supongamos que tenemos un conjunto de imágenes etiquetadas con dos animales distintos: osos y tigres. Este sería un problema de clasificación binaria porque sólo hay dos clases posibles: \"oso\" y \"tigre\". A continuación, lo vemos de manera gráfica:\n",
    "\n",
    "<img src=\"https://raw.githubusercontent.com/ManuelEspejo/Machine-Learning-Bases/main/docs/imgs/IMG_Ej-Labels-OsoTigre.png\" alt=\"Descripción de la imagen\" width=\"700\">\n",
    "\n",
    "> Imágenes Generadas con DALL-E 3. Diagrama montado con Excalidraw.\n",
    "\n",
    "Para este ejemplo:\n",
    "- **Etiquetas**: Las etiquetas indican a qué clase pertenece cada imagen.\n",
    "- **Traducción de las etiquetas**: Para que el modelo lo entienda bien, traducimos las etiquetas a números: \"oso\" -> 0, \"tigre\" -> 1. Los modelos de Machine Learning interpretan los datos mejor cuando son numéricos.\n"
   ]
  },
  {
   "cell_type": "markdown",
   "metadata": {
    "vscode": {
     "languageId": "plaintext"
    }
   },
   "source": [
    "Una vez tenemos este mapeo hecho, entrenamos al modelo con estos datos y estas etiquetas, y luego lo usamos con imágenes sin etiquetar para que pueda clasificarlas y ver su precisión en la tarea.\n",
    "\n",
    "Para entrenar al modelo, necesitamos dividir nuestros datos en dos grupos:\n",
    "\n",
    "- **Conjunto de Entrenamiento**: El conjunto de entrenamiento (Training Set) es el que el modelo utiliza para \"aprender\" y para ello necesita tener tanto las características como las etiquetas a las que corresponden. Gracias a mirar estos datos, el modelo puede descubrir los patrones que relacionan las características con las etiquetas.\n",
    "- **Conjunto de Prueba**: El conjunto de prueba (Test Set), en cambio, es el que utilizamos para evaluar el modelo, es decir, para ver si el modelo es capaz de generalizar a partir de los datos que ha visto durante el entrenamiento. En este caso, no le enseñamos las etiquetas, le damos los datos y él nos dice la etiqueta que corresponde a esos datos.\n",
    "\n",
    "**¿Por qué es importante hacer esta separación?**\n",
    "\n",
    "1. **Evitar la Memorización**: Si no dividimos los datos y le damos al modelo acceso a toda la información, es probable que acabe memorizando en lugar de aprender patrones. Esto significa que, a la hora de evaluarlo, no sabríamos si el modelo realmente ha aprendido a generalizar o si solo está repitiendo respuestas basadas en lo que ya ha visto.\n",
    "2. **Evitar el Sesgo Humano**: Esta separación también es importante para evitar nuestro propio sesgo humano. Solemos ser bastante buenos encontrando patrones (tengan sentido o no), y si miramos el conjunto de prueba antes de tiempo, podríamos, sin darnos cuenta, ajustar el modelo en función de esos datos. Es decir, podríamos estar \"dando pistas\" al modelo de forma involuntaria. Para evitar esto, la división se hace antes de explorar los datos en profundidad y solo miramos el conjunto de entrenamiento.\n",
    "\n",
    "Generalmente, el conjunto de entrenamiento suele ser un 70-80% de los datos, y el conjunto de prueba el 20-30% restante. Esto es porque queremos que el modelo tenga suficientes datos para \"aprender\" y poder generalizar, pero también que tenga datos suficientes para evaluar si está aprendiendo realmente.\n",
    "\n",
    "El tamaño de las divisiones puede variar en base a la cantidad de datos, pero en general, un 80/20 suele ser una buena proporción.\n",
    "\n",
    "<img src=\"https://raw.githubusercontent.com/ManuelEspejo/Machine-Learning-Bases/main/docs/imgs/IMG_Ej-Superv-Learning-oso-tigre.png\" alt=\"Descripción de la imagen\" width=\"1000\">\n",
    "\n",
    "> Imágenes Generadas con DALL-E 3. Diagrama montado con Excalidraw. (Inspirado en el diagrama de [Machine Learning For Humans, Part 2.2: Supervised Learning II](https://everythingcomputerscience.com/books/Machine%20Learning%20for%20Humans.pdf))\n",
    "\n",
    "\n",
    "Idealmente, después de que nuestro modelo haya entrenado y aprendido lo suficiente, debería ser capaz de distinguir entre un oso y un tigre, y eso es lo que se evalúa en el conjunto de prueba."
   ]
  },
  {
   "cell_type": "markdown",
   "metadata": {},
   "source": [
    "Esto sería un problema de muestra, pero la clasificación no es algo exclusivo de las imágenes.\n",
    "\n",
    "Otros ejemplos de clasificación binaria:\n",
    "- **Detección de Spam en Correos**: Identificar si un correo es \"Spam\" o \"No Spam\".\n",
    "- **Clasificación de Reseñas de Productos**: Determinar si una reseña es \"Positiva\" o \"Negativa\".\n",
    "- **Detección de Fraude en Transacciones Bancarias**: Identificar si una transacción es \"Fraudulenta\" o \"No Fraudulenta\".\n",
    "- **Clasificación de Pacientes con Diabetes**: Determinar si un paciente es propenso a la diabetes; \"Diabético\" o \"No Diabético\".\n",
    "\n",
    "Como puedes ver, en base al tipo de datos, la clasificación se enfocará en unas características u otras para hacer la distinción entre clases.\n",
    "\n",
    "**Nota:** Para profundizar más en el aprendizaje supervisado, y ver todo esto en la práctica, puedes saltar al notebook [01_Aprendizaje-Supervisado.ipynb](https://github.com/ManuelEspejo/Machine-Learning-Bases/blob/main/notebooks/01_Aprendizaje-Supervisado.ipynb)."
   ]
  },
  {
   "cell_type": "markdown",
   "metadata": {
    "vscode": {
     "languageId": "plaintext"
    }
   },
   "source": [
    "### 3.2. Aprendizaje no Supervisado\n",
    "\n",
    ">💻 **Notebook práctico**: [02_Aprendizaje-No-Supervisado.ipynb](https://github.com/ManuelEspejo/Machine-Learning-Bases/blob/main/notebooks/02_Aprendizaje-No-Supervisado.ipynb)\n",
    "\n",
    "El **Aprendizaje no Supervisado** es un tipo de aprendizaje automático en el que el modelo trabaja con datos no etiquetados, buscando patrones o estructuras inherentes en los datos. Es decir, es como si el modelo tuviera delante un rompecabezas y tuviera que descubrir formas de resolverlo.\n",
    "\n",
    "A diferencia del aprendizaje supervisado, aquí no se proporciona un objetivo claro (como \"clasificar\" o \"predecir\"), sino que el objetivo es descubrir patrones interesantes o significativos que puedan ayudar en el análisis o en futuras aplicaciones.\n",
    "\n",
    "#### Tareas de aprendizaje no supervisado\n",
    "\n",
    "Las dos principales tareas de aprendizaje no supervisado que podemos encontrarnos son:\n",
    "\n",
    "- **Clustering**: Agrupar datos en grupos o clusters basándose en sus similitudes (por ejemplo, agrupar clientes en base a sus compras).\n",
    "- **Reducción de dimensionalidad**: Encontrar una representación más compacta de los datos, preservando la mayor cantidad de información posible. (es decir, para un grupo de datos con muchas características, buscar una representación con menos características que conserve la mayor cantidad de información posible).\n",
    "- **Detección de Anomalías**: Encontrar datos que no siguen el patrón esperado, que podrían ser datos atípicos o errores. (por ejemplo, en un conjunto de datos de transacciones bancarias, detectar transacciones que no siguen el patrón esperado, que podrían ser fraudes).\n",
    "\n",
    "#### Ejemplo de aprendizaje no supervisado: Problema de clustering\n",
    "\n",
    "Supongamos que tenemos un grupo de clientes con dos características:\n",
    "- **Edad**: Edad de los clientes.\n",
    "- **Cantidad de compras**: Número de compras que ha realizado cada cliente.\n",
    "\n",
    "Como se muestra en el gráfico, el modelo aprendería de estas características y encontraría patrones que le permitan agrupar a los clientes por grupos:\n",
    "\n",
    "<img src=\"https://raw.githubusercontent.com/ManuelEspejo/Machine-Learning-Bases/main/docs/imgs/IMG_Ej-Clustering-Gráfico-Dataset.png\" alt=\"Ejemplo de aprendizaje no supervisado\" width=\"500\">\n",
    "\n",
    "> Dataset sin etiquetas para ejecutar el algoritmo de clustering.\n",
    "\n",
    "<img src=\"https://raw.githubusercontent.com/ManuelEspejo/Machine-Learning-Bases/main/docs/imgs/IMG_Ej-Clustering-Gráfico.png\" alt=\"Ejemplo de aprendizaje no supervisado\" width=\"500\">\n",
    "\n",
    "> Clustering resultante.\n",
    "\n",
    "> Imágenes Generadas con DALL-E 3. Diagrama montado con Excalidraw. (Inspirado en el gráfico de [Hands-On Machine Learning with Scikit-Learn, Keras, and TensorFlow, Page 12](https://www.oreilly.com/library/view/hands-on-machine-learning/9781492032632/))\n",
    "\n",
    "En este caso, el modelo intenta encontrar detalles para agrupar a los clientes en grupos significativos.\n",
    "\n",
    "Cada monigote representa un cliente, clasificado según su edad y número de compras. Las lineas discontinuas representan las fronteras de decisión que el modelo ha encontrado para separar a los grupos.\n",
    "\n",
    "A partir de estos datos, podríamos sacar grupos de clientes que tengan características similares y actuar en consecuencia, por ejemplo:\n",
    "\n",
    "- Clientes jóvenes que realizan muchas compras.\n",
    "- Clientes de mediana edad que realizan pocas compras.\n",
    "- etc.\n",
    "\n",
    "En base a estos datos, podríamos hacernos ideas de lo que podría estar ocurriendo en nuestro negocio, entender nuestro público objetivo y analizar si se alinea con nuestras expectativas.\n",
    "\n",
    "**Nota:** Para profundizar más en el aprendizaje no supervisado, y ver todo esto en la práctica, puedes saltar al notebook [02_Aprendizaje-No-Supervisado.ipynb](https://github.com/ManuelEspejo/Machine-Learning-Bases/blob/main/notebooks/02_Aprendizaje-No-Supervisado.ipynb)."
   ]
  },
  {
   "cell_type": "markdown",
   "metadata": {},
   "source": [
    "## 3.3. Aprendizaje por Refuerzo\n",
    "\n",
    ">💻 **Notebook práctico**: [03_Aprendizaje-Por-Refuerzo.ipynb](https://github.com/ManuelEspejo/Machine-Learning-Bases/blob/main/notebooks/03_Aprendizaje-Por-Refuerzo.ipynb)\n",
    "\n",
    "El **Aprendizaje por Refuerzo (Reinforcement Learning, RL)** es una rama fascinante del aprendizaje automático que emula cómo los seres vivos, como tú o yo, tomamos decisiones. Imagina que llegas a un lugar completamente nuevo, sin un mapa ni instrucciones. No sabes cómo moverte, pero sabes que hay una meta: encontrar un tesoro escondido. ¿Cómo lo harías? Probando cosas. Explorando. Aprendiendo de tus errores. Y sobre todo, recordando lo que funciona y lo que no. Así, eventualmente, te conviertes en un maestro en esa tarea.\n",
    "\n",
    "Ese es el espíritu del RL: **aprender a través de la experiencia directa**. Aquí, el modelo (llamado **agente**) interactúa con un **entorno**, toma decisiones y recibe **recompensas** basadas en esas decisiones. Es un aprendizaje por prueba y error.\n",
    "\n",
    "Lo increíble de este tipo de aprendizaje es que nosotros, como humanos, tenemos un tiempo limitado y aprendemos bastante lento. En cambio, los modelos de RL pueden aprender a partir de millones de experiencias en cuestión de horas o minutos, y eso es lo que hace que acaben siendo tan buenos en lo suyo.\n",
    "\n",
    "En RL, el modelo experimenta directamente con el mundo, tomando decisiones en tiempo real y aprendiendo de sus consecuencias. Es como si estuviera vivo, probando y ajustándose constantemente para ser mejor.\n",
    "\n",
    "#### Una analogía clásica: entrenando a un perro\n",
    "\n",
    "Imagina que quieres enseñar a tu perro a dar la pata. Al principio, no tiene ni idea de lo que estás pidiendo. Intenta ladrar, mover la cola, saltar... Pero un día, por casualidad, levanta la pata, y tú le das una galleta. ¿Qué hará la próxima vez? Levantar la pata de nuevo para obtener su premio (no siempre😅​, pero es lo ideal). Poco a poco, aprende que levantar la pata lleva a recompensas. Esto es aprendizaje por refuerzo en acción: el agente (el perro) explora, prueba diferentes acciones en su entorno (el mundo y tú) y aprende cuál le genera la mayor recompensa.\n",
    "\n",
    "\n",
    "#### El RL en acción: El agente como entidad en un entorno\n",
    "\n",
    "Ahora, llevemos esta idea a un nivel más técnico. En RL, podemos imaginar al agente como una entidad que toma control de algo en el entorno: un robot, un dron, un coche, o incluso un personaje en un videojuego. Al principio, no sabe nada sobre lo que está haciendo. Podría estar volando, rodando, arrastrándose o simplemente intentando no caerse.\n",
    "\n",
    "A medida que interactúa con el entorno, el agente comienza a descubrir:\n",
    "- **Qué puede hacer:** ¿Puede girar, saltar, empujar?\n",
    "- **Qué debe evitar:** ¿Hay obstáculos que lo dañen o lo frenen?\n",
    "- **Qué quiere lograr:** ¿Hay un objetivo, como alcanzar un destino o mantener el equilibrio?\n",
    "\n",
    "Todo esto lo hace a través de ensayo y error, experimentando constantemente para encontrar una política óptima: un conjunto de reglas que le permitan maximizar su recompensa acumulada.\n",
    "\n",
    "\n",
    "#### ¿Qué tipo de problemas puede resolver el RL?\n",
    "\n",
    "El aprendizaje por refuerzo es increíblemente versátil y se usa para:\n",
    "- **Control continuo:** Optimizar movimientos, como enseñar a un brazo robótico a ensamblar piezas o a un dron a volar.\n",
    "- **Toma de decisiones secuenciales:** Aprender estrategias óptimas para juegos complejos, como el ajedrez o videojuegos.\n",
    "- **Exploración y aprendizaje en entornos desconocidos:** Como enseñarle a un dron a mapear una cueva que nunca ha visto.\n",
    "\n",
    "Un ejemplo clásico es el problema de **CartPole**: el agente debe aprender a equilibrar un palo sobre un carrito en movimiento. Parece sencillo, pero requiere que el agente tome decisiones rápidas y precisas basándose en su conocimiento acumulado. A continuación, puedes ver dos GIFs generados en el notebook [03_Aprendizaje-Por-Refuerzo.ipynb](https://github.com/ManuelEspejo/Machine-Learning-Bases/blob/main/notebooks/03_Aprendizaje-Por-Refuerzo.ipynb) que muestran el carrito antes y después de que el agente haya aprendido a equilibrar el palo. No es perfecto, pero se puede ver que algo ha aprendido.\n",
    "\n",
    "<img src=\"https://raw.githubusercontent.com/ManuelEspejo/Machine-Learning-Bases/main/docs/imgs/GIF_CartPole_Random.gif\" alt=\"Ejemplo de aprendizaje por refuerzo\" width=\"500\">\n",
    "\n",
    "> El agente cuando se mueve de forma aleatoria (Cuando el palo cae en un ángulo mayor de 12 grados, el agente pierde y el juego termina, de ahí que dure tan poco).\n",
    "\n",
    "<img src=\"https://raw.githubusercontent.com/ManuelEspejo/Machine-Learning-Bases/main/docs/imgs/GIF_CartPole_Q-Learning.gif\" alt=\"Ejemplo de aprendizaje por refuerzo\" width=\"500\">\n",
    "\n",
    "> El agente cuando ya ha aprendido un poco más a equilibrar el palo, como ves, dura más tiempo.\n",
    "\n",
    "\n",
    "**¿Quieres ver cómo hemos conseguido esto?**\n",
    "\n",
    "Si esto te intriga y quieres explorar cómo funciona RL en la práctica, te invito a saltar al notebook práctico: [03_Aprendizaje-Por-Refuerzo.ipynb](https://github.com/ManuelEspejo/Machine-Learning-Bases/blob/main/notebooks/03_Aprendizaje-Por-Refuerzo.ipynb). En él, resolveremos el problema de CartPole desde cero y veremos al agente convertirse en un maestro del equilibrio (o casi)."
   ]
  },
  {
   "cell_type": "markdown",
   "metadata": {},
   "source": [
    "## 4. Interpretabilidad en Machine Learning: Entender las decisiones del modelo\n",
    "\n",
    "> 💻 **Notebook práctico**: [04_Interpretabilidad-Modelos.ipynb](https://github.com/ManuelEspejo/Machine-Learning-Bases/blob/main/notebooks/04_Interpretabilidad-Modelos.ipynb)\n",
    "\n",
    "Cuando hablamos de modelos de Machine Learning, a menudo nos encontramos con una pregunta crítica: **¿Por qué mi modelo tomó esta decisión?**. Este es el núcleo de la interpretabilidad."
   ]
  },
  {
   "cell_type": "markdown",
   "metadata": {},
   "source": [
    "### 4.1 ¿Qué es la interpretabilidad y por qué importa?\n",
    "\n",
    "La interpretabilidad es la capacidad de entender y explicar cómo un modelo toma decisiones. En un mundo donde los algoritmos de IA tienen cada vez más peso en nuestras vidas, garantizar que estas decisiones sean transparentes no es un lujo, es una necesidad.\n",
    "\n",
    "Esto cobra especial importancia en sectores críticos, en los que las decisiones que toman los modelos pueden tener consecuencias graves:\n",
    "\n",
    "- **Decisiones legales**: ¿Por qué un algoritmo recomienda una sentencia más severa para una persona?\n",
    "- **Decisiones médicas**: ¿Por qué un modelo predice mayor riesgo de enfermedad en un paciente?\n",
    "- **Decisiones financieras**: ¿Por qué un cliente no califica para un préstamo?\n",
    "\n",
    "Esto es importante por varias razones, entre las que destacan:\n",
    "\n",
    "1. **Confianza:** Los usuarios están más dispuestos a confiar en un modelo que pueden entender. Nos gusta lo que podemos explicar y tenemos bajo control.\n",
    "2. **Trazabilidad:** En sectores críticos como la medicina o las finanzas, saber \"por qué\" es esencial para cumplir con normativas.  \n",
    "3. **Mejora del modelo:** Detectar errores o sesgos es mucho más fácil cuando entendemos qué está haciendo el modelo.  \n",
    "4. **Impacto social:** Un modelo opaco puede amplificar desigualdades o tomar decisiones injustas. La interpretabilidad ayuda a mitigar esto.\n",
    "\n",
    "> 📌 **Ejemplo real**: Según un [informe de The Markup](https://themarkup.org/denied/2021/08/25/the-secret-bias-hidden-in-mortgage-approval-algorithms) de 2021, los algoritmos de aprobación de hipotecas en EE. UU. rechazaban a solicitantes no blancos con mayor frecuencia, incluso cuando sus perfiles financieros eran similares a los de solicitantes blancos."
   ]
  },
  {
   "cell_type": "markdown",
   "metadata": {},
   "source": [
    "### 4.2. La balanza: Interpretabilidad vs. Precisión\n",
    "\n",
    "A menudo, existe un **tradeoff** entre interpretabilidad y precisión. Modelos más complejos, como redes neuronales profundas, suelen ser muy precisos pero difíciles de explicar (lo que llamamos \"cajas negras\"). Por otro lado, modelos simples, como los árboles de decisión, son más interpretables pero pueden tener menor precisión.\n",
    "\n",
    "Piensa en un mapa.  \n",
    "\n",
    "- Un **árbol de decisión** es como un mapa simplificado que te muestra las principales calles de una ciudad. No es perfecto, pero es fácil de seguir, y para algunos casos, es justo lo que necesitamos.\n",
    "- Una **red neuronal** es como un GPS súper detallado que incluye hasta los callejones. Es más preciso, pero ¿puedes explicar cómo llegó a esa recomendación? \n",
    "\n",
    "> Este ejemplo funciona muy bien porque nos deja ver otro detalle fundamental: No siempre necesitamos un GPS súper avanzado. Si lo que buscamos es llegar a la gasolinera más cercana, un mapa con las gasolineras marcadas es más que suficiente. El modelo ideal depende del problema."
   ]
  },
  {
   "cell_type": "markdown",
   "metadata": {},
   "source": [
    "### 4.3. ¿Cómo medimos la interpretabilidad?\n",
    "\n",
    "Aunque no hay una métrica universal para medir interpretabilidad, aquí hay algunos enfoques comunes:  \n",
    "\n",
    "1. **Simplicidad del modelo:** ¿Cuántas reglas, parámetros o conexiones tiene?  \n",
    "2. **Trazabilidad:** ¿Podemos rastrear cómo se tomó cada decisión?\n",
    "3. **Herramientas complementarias:** Métodos como SHAP o LIME permiten desglosar decisiones incluso en modelos complejos.\n",
    "\n",
    "> **Ejemplo:** Con un árbol de decisión, puedes visualizar y seguir cada paso hasta llegar a una decisión. Con una red neuronal, necesitas herramientas como SHAP para entender la importancia de cada feature."
   ]
  },
  {
   "cell_type": "markdown",
   "metadata": {},
   "source": [
    "### 4.4. Aplicación práctica en un contexto médico\n",
    "\n",
    ">💡 **Pregunta clave:** ¿Cómo equilibramos precisión e interpretabilidad en medicina?  \n",
    "\n",
    "En el notebook práctico, exploraremos cómo un **árbol de decisión** puede explicar si un tumor es maligno o benigno y lo compararemos con una **red neuronal**.\n",
    "\n",
    "Veremos:\n",
    "\n",
    "- Cómo cada modelo aborda el problema.\n",
    "- Cuándo es crucial priorizar la transparencia sobre la precisión.\n",
    "\n",
    "Si un modelo predice que un tumor es maligno, es vital que podamos justificar por qué. Un médico necesita entender la lógica del modelo para tomar decisiones críticas, como si recomendar una biopsia o iniciar tratamiento inmediatamente.\n",
    "\n",
    "La interpretabilidad no es solo una característica deseable, es una responsabilidad. Con el avance de modelos complejos como transformers, también emergen herramientas para desentrañar sus decisiones. Sin embargo, el equilibrio entre precisión y transparencia sigue siendo un reto, especialmente en aplicaciones donde la vida o el bienestar están en juego.\n",
    "\n",
    "> **Nota:** Si estás listo para ver esto en acción, salta al notebook [04_Interpretabilidad-Modelos.ipynb](https://github.com/ManuelEspejo/Machine-Learning-Bases/blob/main/notebooks/04_Interpretabilidad-Modelos.ipynb).\n"
   ]
  }
 ],
 "metadata": {
  "kernelspec": {
   "display_name": "TallerML",
   "language": "python",
   "name": "python3"
  },
  "language_info": {
   "codemirror_mode": {
    "name": "ipython",
    "version": 3
   },
   "file_extension": ".py",
   "mimetype": "text/x-python",
   "name": "python",
   "nbconvert_exporter": "python",
   "pygments_lexer": "ipython3",
   "version": "3.10.15"
  }
 },
 "nbformat": 4,
 "nbformat_minor": 2
}
