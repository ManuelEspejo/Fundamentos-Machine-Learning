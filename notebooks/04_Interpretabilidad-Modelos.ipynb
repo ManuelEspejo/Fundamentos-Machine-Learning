{
 "cells": [
  {
   "cell_type": "markdown",
   "metadata": {},
   "source": [
    "[![Abrir en Colab](https://colab.research.google.com/assets/colab-badge.svg)](https://colab.research.google.com/github/ManuelEspejo/Machine-Learning-Bases/blob/main/notebooks/03_Aprendizaje-Por-Refuerzo.ipynb) 👈🏻​ **Pulsar para abrir en Colab​**\n",
    "\n",
    "# ¿Cómo usar estos notebooks?\n",
    "\n",
    "Si este es el primer notebook que abres en este repositorio, te recomiendo que antes leas el [Manual de uso de estos notebooks](https://github.com/ManuelEspejo/Machine-Learning-Bases/blob/main/docs/manual-notebooks.md) que he creado para que te familiarices con el proyecto y las distintas rutas que puedes seguir, luego puedes volver aquí y continuar.\n",
    "\n",
    "En este notebook, vamos a profundizar en la **interpretabilidad de los modelos de IA**.\n",
    "\n",
    "Por otra parte, si aún no has revisado el notebook \"[00_Empieza-aquí.ipynb](https://github.com/ManuelEspejo/Machine-Learning-Bases/blob/main/notebooks/00_Empieza-aquí.ipynb)\", te sugiero que le eches un vistazo primero para conocer los conceptos básicos. Pero si ya tienes una idea clara de los conceptos básicos y quieres pasar a la práctica, ¡estás en el lugar correcto!"
   ]
  },
  {
   "cell_type": "markdown",
   "metadata": {},
   "source": [
    "# 04. Interpretabilidad de los Modelos\n",
    "\n",
    "Cuando entrenamos modelos de Machine Learning, uno de los mayores desafíos no es solo que el modelo funcione bien, sino entender **cómo** y **por qué** toma sus decisiones. Este es el corazón de la interpretabilidad: poder responder a preguntas como *\"¿por qué este modelo rechazó mi préstamo?\"* o *\"¿por qué dice que este tumor es maligno?\"*.\n",
    "\n",
    "## ¿Por qué es importante?\n",
    "\n",
    "La interpretabilidad de los modelos no es solo un tema técnico, es una cuestión de confianza, responsabilidad y toma de decisiones éticas. Aquí te dejo tres razones principales por las que es crucial:\n",
    "\n",
    "1. **Confianza en el modelo:** Si no entiendes cómo funciona un modelo, ¿cómo puedes confiar en él? Esto es especialmente importante en áreas críticas como la salud, las finanzas y la justicia, donde las decisiones tienen un impacto directo en la vida de las personas.\n",
    "\n",
    "2. **Cumplimiento de normativas:** Cada vez más regulaciones exigen que los modelos de IA sean explicables, como el [GDPR en Europa](https://gdpr-info.eu/), que establece el \"derecho a explicación\" para decisiones automatizadas.\n",
    "\n",
    "> **Recursos:** Si quieres saber más sobre el GDPR, te recomiendo explorar este [GPT personalizado](https://chatgpt.com/g/g-JvCAAqPCj-gdpr-expert), está muy bien construido.\n",
    "\n",
    "3. **Impacto social y ético:** Un modelo opaco puede amplificar sesgos y tomar decisiones injustas. Por ejemplo, si un modelo de contratación favorece a un grupo sobre otro sin una justificación clara, estaríamos perpetuando desigualdades.\n",
    "\n",
    "En resumen, la interpretabilidad no es solo un *\"nice to have\"*, es una necesidad fundamental en cualquier aplicación de IA que impacte el mundo real.\n",
    "\n",
    "\n",
    "## ¿Qué vamos a ver?\n",
    "\n",
    "En este notebook, nos sumergiremos en el fascinante mundo de la interpretabilidad y exploraremos cómo podemos explicar y justificar las decisiones de dos tipos de modelos muy diferentes: un **árbol de decisión** y una **red neuronal**.\n",
    "\n",
    "Al final de este notebook, habrás aprendido:\n",
    "\n",
    "- **Qué es la interpretabilidad y por qué importa**, con ejemplos del mundo real.  \n",
    "- **Cómo entrenar y visualizar un árbol de decisión,** uno de los modelos más intuitivos.  \n",
    "- **Cómo trabajar con redes neuronales y explorar su interpretabilidad,** utilizando herramientas como SHAP.  \n",
    "- **La comparación entre ambos enfoques,** destacando los pros y los contras de cada uno.\n",
    "\n",
    "La meta no es solo entender qué modelo funciona mejor, sino también aprender a tomar decisiones informadas sobre cuándo priorizar la interpretabilidad frente a la precisión.\n",
    "\n",
    "**¿Listo para desentrañar las decisiones de tus modelos y convertirte en un maestro de la interpretabilidad?**\n",
    "\n",
    "**¡Vamos allá! 🚀**"
   ]
  },
  {
   "cell_type": "markdown",
   "metadata": {},
   "source": [
    "# Índice de Contenidos\n",
    "\n",
    "```\n",
    "1. Fundamentos de la Interpretabilidad\n",
    "   1.1. Componentes clave de la interpretabilidad  \n",
    "       1.1.1. Comprensibilidad  \n",
    "       1.1.2. Trazabilidad  \n",
    "       1.1.3. Generalización y robustez  \n",
    "   1.2. Dimensiones de la interpretabilidad  \n",
    "       1.2.1. Modelos intrínsecamente interpretables  \n",
    "       1.2.2. Interpretabilidad post-hoc  \n",
    "   1.3. Tradeoff: Interpretabilidad vs. Complejidad  \n",
    "2. Árboles de decisión: Explorando un modelo interpretable (Ejercicio práctico)\n",
    "   2.1. Carga y exploración del dataset (Breast Cancer Wisconsin)\n",
    "   2.2. Entrenamiento del árbol de decisión\n",
    "      2.2.1. Configuración y ajuste de hyperparámetros\n",
    "      2.2.2. Visualización y análisis del árbol\n",
    "   2.3. Análisis de la importancia de features\n",
    "      2.3.1. Identificando las reglas clave\n",
    "      2.3.2. Interpretación de decisiones específicas\n",
    "3. Redes neuronales: Desentrañando la \"caja negra\" (Ejercicio práctico)\n",
    "   3.1. Construcción y entrenamiento de una red neuronal simple\n",
    "   3.2. Métodos para interpretar redes neuronales\n",
    "      3.2.1. Uso de SHAP para analizar la importancia de features\n",
    "      3.2.2. Visualización de resultados y comparación con el árbol de decisión\n",
    "4. Comparativa entre modelos: Árboles de decisión vs. Redes neuronales\n",
    "   4.1. Precisión vs. Interpretabilidad\n",
    "   4.2. Ventajas y limitaciones de cada enfoque\n",
    "5. Conclusión\n",
    "   5.1. Reflexión sobre el tradeoff entre interpretabilidad y precisión\n",
    "   5.2. El futuro de la interpretabilidad en modelos avanzados\n",
    "```"
   ]
  },
  {
   "cell_type": "code",
   "execution_count": null,
   "metadata": {},
   "outputs": [],
   "source": [
    "import os\n",
    "import sys\n",
    "\n",
    "# Configuraciones\n",
    "# Detectar si estamos en Colab\n",
    "in_colab = 'google.colab' in str(get_ipython())\n",
    "\n",
    "if in_colab:\n",
    "    # Descargar el archivo visualizations.py desde el repositorio de GitHub\n",
    "    !mkdir -p /content/utils # Creamos una carpeta utils para que coincida con la estructura del repositorio\n",
    "    !wget -O utils/visualizations.py \"https://raw.githubusercontent.com/ManuelEspejo/Machine-Learning-Bases/main/utils/visualizations.py\"\n",
    "    data_dir = '/content/data' # Ruta de los datos\n",
    "else:\n",
    "    # Agregar el directorio raíz al path de Python (Para ejecutar en local)\n",
    "    notebook_dir = os.path.dirname(os.path.abspath('__file__'))\n",
    "    project_dir = os.path.dirname(notebook_dir)\n",
    "    sys.path.append(project_dir)\n",
    "    data_dir = '../data/raw'"
   ]
  },
  {
   "cell_type": "code",
   "execution_count": null,
   "metadata": {},
   "outputs": [],
   "source": [
    "# Importar las librerías necesarias\n"
   ]
  },
  {
   "cell_type": "markdown",
   "metadata": {},
   "source": [
    "# 1. Fundamentos de la Interpretabilidad\n",
    "\n",
    "La interpretabilidad no es solo un tema técnico; es lo que conecta a las personas con los modelos. Es como tener un traductor entre el mundo de las matemáticas y el mundo real. Aquí exploraremos los pilares que hacen que un modelo sea interpretable y, lo más importante, entendible."
   ]
  },
  {
   "cell_type": "markdown",
   "metadata": {},
   "source": [
    "## 1.1. Componentes clave de la interpretabilidad\n",
    "\n",
    "### 1.1.1. Comprensibilidad\n",
    "\n",
    "La facilidad con la que un humano puede entender el funcionamiento interno de un modelo. Por ejemplo, un árbol de decisión es claro porque sigue una lógica \"si esto, entonces aquello\".\n",
    "\n",
    "### 1.1.2. Trazabilidad\n",
    "\n",
    "La capacidad de descomponer una predicción en sus partes para entender qué factores influyeron más. Es como seguir las huellas en la escena de un crímen para reconstruir lo que sucedió.\n",
    "\n",
    "Por ejemplo, en un modelo médico que predice si un tumor es maligno, queremos saber: ¿Fue el tamaño del tumor? ¿Su forma? ¿La edad del paciente? ¿Todas las características?\n",
    "\n",
    "Sin trazabilidad, usamos modelos ciegamente. No podemos aceptar un diagnóstico médico sin saber en qué se basó. Aplicar un modelo así puede sonar extremo, pero es la realidad en muchos sistemas de IA actuales, se usan modelos que no sabemos cómo funcionan mucho más frecuentemente de lo que podrías imaginar.\n",
    "\n",
    "### 1.1.3. Generalización y robustez\n",
    "\n",
    "Una buena interpretabilidad no solo implica entender un modelo, sino también confiar en que su lógica se mantiene consistente ante nuevas situaciones.\n",
    "\n",
    "El mundo no es estático, por lo que no queremos un modelo que sólo de buenos resultados en lo que ya ha visto, sino que sea capaz de aplicar su lógica a nuevas situaciones de manera efectiva y sin errores o fallos críticos.\n",
    "\n",
    "Un modelo robusto debe ser consistente: Si sus decisiones se vuelven erráticas cuando los datos cambian ligeramente, la interpretabilidad pierde su valor.\n",
    "\n",
    "En definitiva, queremos un modelo que sea capaz de salir de su \"zona de confort\" y adaptarse a lo que le venga."
   ]
  },
  {
   "cell_type": "markdown",
   "metadata": {},
   "source": [
    "## 1.2. Dimensiones de la interpretabilidad\n",
    "\n",
    "### 1.2.1. Modelo intrínsecamente interpretables\n",
    "\n",
    "Algunos modelos, como los árboles de decisión y las regresiones lineales, son interpretables por diseño. Su estructura lógica y directa hace que puedas explicarlos como si estuvieras contando una historia.\n",
    "\n",
    "Te pongo un ejemplo: \"Si el paciente tiene más de 50 años y su presión arterial es alta, hay un 80% de probabilidades de que tenga riesgo cardiovascular.\" Como ves, dos factores que influyen directamente en la variable a predecir.\n",
    "\n",
    "El problema es que estos modelos a menudo no capturan toda la complejidad de los datos. Son buenos para hacerse una idea de la situación, pero pueden pasar por alto cosas importantes.\n",
    "\n",
    "### 1.2.2. Interpretabilidad post-hoc\n",
    "\n",
    "Aquí entran en juego herramientas como `SHAP` o `LIME`. Estas nos sirven para inspeccionar modelos más complejos y entender qué está pasando dentro. Por ejemplo, SHAP te dirá cuánto influyó cada feature en una predicción específica.\n",
    "\n",
    "Esto sería como tener un panel de control para una máquina compleja. No entiendes todo el sistema, pero las herramientas te permiten ver qué está fallando o funcionando bien.\n"
   ]
  },
  {
   "cell_type": "markdown",
   "metadata": {},
   "source": [
    "## 1.3. Tradeoff: Interpretabilidad vs. Complejidad\n",
    "\n",
    "La vida es un constante balance entre simplicidad y detalle, y lo mismo ocurre con los modelos de Machine Learning. A menudo, enfrentamos el dilema de elegir entre un modelo simple y entendible o uno complejo y más potente y preciso.\n",
    "\n",
    "Y, como habrás imaginado, no hay una respuesta o una regla que podamos aplicar a todos los casos: dependerá de la situación.\n",
    "\n",
    "La clave está en decidir qué es más importante según el contexto. En medicina o justicia, probablemente prefieras un modelo más interpretable, incluso si pierdes algo de precisión. En cambio, en aplicaciones como recomendaciones de películas, podrías priorizar la precisión, porque no pasa nada si el modelo falla, de hecho, incluso puede ser divertido y enseñarte cosas que no sabías que te gustaban.\n",
    "\n",
    "En definitiva, la interpretabilidad no es una meta en sí misma, sino un medio para llegar a decisiones más informadas y conscientes."
   ]
  },
  {
   "cell_type": "markdown",
   "metadata": {},
   "source": [
    "# 2. Árboles de decisión: Explorando un modelo interpretable (Ejercicio práctico)"
   ]
  }
 ],
 "metadata": {
  "kernelspec": {
   "display_name": "TallerML",
   "language": "python",
   "name": "python3"
  },
  "language_info": {
   "name": "python",
   "version": "3.10.15"
  }
 },
 "nbformat": 4,
 "nbformat_minor": 2
}
