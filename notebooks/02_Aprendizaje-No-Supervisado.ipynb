{
 "cells": [
  {
   "cell_type": "markdown",
   "metadata": {},
   "source": [
    "[![Abrir en Colab](https://colab.research.google.com/assets/colab-badge.svg)](https://colab.research.google.com/github/ManuelEspejo/Machine-Learning-Bases/blob/main/notebooks/01_Aprendizaje-Supervisado.ipynb) 👈🏻​ **Pulsar para abrir en Colab​**\n",
    "\n",
    "# ¿Cómo usar estos notebooks?\n",
    "\n",
    "Si este es el primer notebook que abres en este repositorio, te recomiendo que antes leas el [Manual de uso de estos notebooks](https://github.com/ManuelEspejo/Machine-Learning-Bases/blob/main/docs/manual-notebooks.md) que he creado para que te familiarices con el proyecto y las distintas rutas que puedes seguir, luego puedes volver aquí y continuar.\n",
    "\n",
    "En este notebook, vamos a profundizar en par de ejemplos prácticos de aprendizaje supervisado.\n",
    "\n",
    "Por otra parte, si aún no has revisado el notebook \"[00_Empieza-aquí.ipynb](https://github.com/ManuelEspejo/Machine-Learning-Bases/blob/main/notebooks/00_Empieza-aquí.ipynb)\", te sugiero que le eches un vistazo primero para conocer los conceptos básicos. Pero si ya tienes una idea clara de qué es el aprendizaje no supervisado y quieres verlo en acción, ¡estás en el lugar correcto!"
   ]
  },
  {
   "cell_type": "markdown",
   "metadata": {},
   "source": [
    "# 01. Aprendizaje No Supervisado\n",
    "\n",
    "El **Aprendizaje No Supervisado** es un tipo de Machine Learning donde el modelo trabaja con datos que no tienen etiquetas predefinidas para encontrar patrones, relaciones y estructuras en los datos. Es como explorar un bosque sin un mapa, dejando que los datos \"hablen por sí mismos\".\n",
    "\n",
    "- En el aprendizaje supervisado, sabes cuál es la respuesta correcta (datos etiquetados).\n",
    "- En el aprendizaje no supervisado, simplemente intentas encontrar una estructura significativa en los datos.\n",
    "\n",
    "## ¿Por qué es importante?\n",
    "\n",
    "En muchos casos del mundo real, los datos no vienen con etiquetas. Imagina los millones de interacciones de clientes en un sitio web: sería inviable etiquetar manualmente cada una. Aquí es donde entra el aprendizaje no supervisado para ayudarnos a:\n",
    "\n",
    "- Agrupar clientes con comportamientos similares (clustering).\n",
    "- Reducir la complejidad de datos con cientos de variables (reducción de dimensionalidad).\n",
    "- Identificar comportamientos anómalos, como transacciones fraudulentas (detección de anomalías).\n",
    "\n",
    "## ¿Qué vamos a ver?\n",
    "\n",
    "A lo largo de este notebook, exploraremos las técnicas más comunes de aprendizaje no supervisado:\n",
    "\n",
    "- **Clustering con K-Means**: Cómo agrupar datos según su similitud.\n",
    "- **Reducción de Dimensionalidad con PCA**: Cómo simplificar datos complejos sin perder información clave.\n",
    "- **Detección de Anomalías**: Cómo identificar datos que no siguen patrones normales.\n",
    "\n",
    "> **📚 Recurso:** Si aún no has explorado el aprendizaje supervisado, te recomiendo revisar el notebook anterior: [01_Aprendizaje-Supervisado.ipynb](https://github.com/ManuelEspejo/Machine-Learning-Bases/blob/main/notebooks/01_Aprendizaje-Supervisado.ipynb). Esto te ayudará a entender mejor las diferencias y complementar ambas técnicas en tus proyectos."
   ]
  }
 ],
 "metadata": {
  "language_info": {
   "name": "python"
  }
 },
 "nbformat": 4,
 "nbformat_minor": 2
}
