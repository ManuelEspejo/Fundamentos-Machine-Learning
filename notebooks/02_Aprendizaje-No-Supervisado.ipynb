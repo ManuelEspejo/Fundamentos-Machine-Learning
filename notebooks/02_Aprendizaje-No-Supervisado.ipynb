{
 "cells": [
  {
   "cell_type": "markdown",
   "metadata": {},
   "source": [
    "[![Abrir en Colab](https://colab.research.google.com/assets/colab-badge.svg)](https://colab.research.google.com/github/ManuelEspejo/Machine-Learning-Bases/blob/main/notebooks/01_Aprendizaje-Supervisado.ipynb) 👈🏻​ **Pulsar para abrir en Colab​**\n",
    "\n",
    "# ¿Cómo usar estos notebooks?\n",
    "\n",
    "Si este es el primer notebook que abres en este repositorio, te recomiendo que antes leas el [Manual de uso de estos notebooks](https://github.com/ManuelEspejo/Machine-Learning-Bases/blob/main/docs/manual-notebooks.md) que he creado para que te familiarices con el proyecto y las distintas rutas que puedes seguir, luego puedes volver aquí y continuar.\n",
    "\n",
    "En este notebook, vamos a profundizar en par de ejemplos prácticos de aprendizaje supervisado.\n",
    "\n",
    "Por otra parte, si aún no has revisado el notebook \"[00_Empieza-aquí.ipynb](https://github.com/ManuelEspejo/Machine-Learning-Bases/blob/main/notebooks/00_Empieza-aquí.ipynb)\", te sugiero que le eches un vistazo primero para conocer los conceptos básicos. Pero si ya tienes una idea clara de qué es el aprendizaje no supervisado y quieres verlo en acción, ¡estás en el lugar correcto!"
   ]
  },
  {
   "cell_type": "markdown",
   "metadata": {},
   "source": [
    "# 01. Aprendizaje No Supervisado\n",
    "\n",
    "El **Aprendizaje No Supervisado** es un tipo de Machine Learning donde el modelo trabaja con datos que no tienen etiquetas predefinidas para encontrar patrones, relaciones y estructuras en los datos. Es como explorar un bosque sin un mapa, dejando que los datos \"hablen por sí mismos\".\n",
    "\n",
    "- En el aprendizaje supervisado, sabes cuál es la respuesta correcta (datos etiquetados).\n",
    "- En el aprendizaje no supervisado, simplemente intentas encontrar una estructura significativa en los datos.\n",
    "\n",
    "## ¿Por qué es importante?\n",
    "\n",
    "En muchos casos del mundo real, los datos no vienen con etiquetas. Imagina los millones de interacciones de clientes en un sitio web: sería inviable etiquetar manualmente cada una. Aquí es donde entra el aprendizaje no supervisado para ayudarnos a:\n",
    "\n",
    "- Agrupar clientes con comportamientos similares (clustering).\n",
    "- Reducir la complejidad de datos con cientos de variables (reducción de dimensionalidad).\n",
    "- Identificar comportamientos anómalos, como transacciones fraudulentas (detección de anomalías).\n",
    "\n",
    "## ¿Qué vamos a ver?\n",
    "\n",
    "A lo largo de este notebook, exploraremos las técnicas más comunes de aprendizaje no supervisado:\n",
    "\n",
    "- **Clustering con K-Means**: Cómo agrupar datos según su similitud.\n",
    "- **Reducción de Dimensionalidad con PCA**: Cómo simplificar datos complejos sin perder información clave.\n",
    "- **Detección de Anomalías**: Cómo identificar datos que no siguen patrones normales.\n",
    "\n",
    "> **📚 Recurso:** Si aún no has explorado el aprendizaje supervisado, te recomiendo revisar el notebook anterior: [01_Aprendizaje-Supervisado.ipynb](https://github.com/ManuelEspejo/Machine-Learning-Bases/blob/main/notebooks/01_Aprendizaje-Supervisado.ipynb). Esto te ayudará a entender mejor las diferencias y complementar ambas técnicas en tus proyectos.\n",
    "\n",
    "\n",
    "**Empecemos**🚀"
   ]
  },
  {
   "cell_type": "markdown",
   "metadata": {},
   "source": [
    "# Índice de Contenidos\n",
    "\n",
    "1. **Clustering: Segmentación de Clientes**\n",
    "   \n",
    "   1.1. Descripción del Problema  \n",
    "   1.2. Descargar el Dataset  \n",
    "   1.3. Exploración y Preprocesamiento de Datos  \n",
    "   1.4. Selección de Características  \n",
    "   1.5. Escalado de los Datos  \n",
    "   1.6. Visualización Inicial\n",
    "   1.7. Aplicar K-Means  \n",
    "   1.8. Evaluar la Calidad de los Clusters  \n",
    "   1.9. Visualización de Clusters  \n",
    "   1.10. Reflexiones y Mejoras  \n",
    "\n",
    "2. **Reducción de Dimensionalidad: Visualización de Datos con PCA**\n",
    "   \n",
    "   2.1. Introducción a PCA  \n",
    "   2.2. Aplicar PCA a los Datos  \n",
    "   2.3. Visualizar los Resultados en 2D  \n",
    "   2.4. Interpretación de los Componentes Principales  \n",
    "   2.5. Reflexiones sobre el uso de PCA  \n",
    "\n",
    "3. **Detección de Anomalías: Identificación de Transacciones Atípicas**\n",
    "   \n",
    "   3.1. Descripción del Problema  \n",
    "   3.2. Exploración de Datos  \n",
    "   3.3. Aplicar un Modelo de Detección de Anomalías  \n",
    "   3.4. Visualización de los Resultados  \n",
    "   3.5. Reflexiones sobre la Interpretación de Anomalías  \n",
    "\n",
    "4. **Exploraciones Avanzadas**\n",
    "   \n",
    "   4.1. Combinación de Clustering y PCA  \n",
    "   4.2. Otros Algoritmos de Clustering (DBSCAN)  \n",
    "   4.3. Visualización con T-SNE y UMAP  \n",
    "\n",
    "5. **Ejercicios y Retos**\n",
    "   \n",
    "   5.1. Clustering con Datos Reales  \n",
    "   5.2. Implementación de PCA en un Dataset Propio  \n",
    "   5.3. Experimentar con Detección de Anomalías  \n",
    "   5.4. Preguntas para Reflexionar  \n",
    "\n"
   ]
  },
  {
   "cell_type": "markdown",
   "metadata": {},
   "source": [
    "## 1.1. Descripción del Problema\n",
    "\n",
    "Imagina que trabajas en un centro comercial y quieres mejorar las estrategias de marketing personalizadas. Por ejemplo, podrías ofrecer promociones exclusivas según el tipo de cliente. Sin embargo, no tienes etiquetas predefinidas para identificar a tus clientes (como \"comprador frecuente\" o \"cliente ocasional\").\n",
    "\n",
    "Aquí es donde entra en juego el **Clustering** con **K-Means**, que nos ayudará a encontrar patrones y agrupar a los clientes según sus similitudes. Una vez definidos estos grupos, podrás diseñar estrategias específicas para cada segmento, como:\n",
    "\n",
    "- Crear ofertas especiales para los clientes con alto potencial de gasto.\n",
    "- Diseñar programas de fidelización para clientes con ingresos altos pero gasto moderado.\n",
    "\n",
    "### Objetivos Específicos\n",
    "\n",
    "1. **Dividir automáticamente a los clientes en grupos (clusters)** basados en su comportamiento de ingresos y gasto.\n",
    "2. **Entender los patrones de comportamiento dentro de cada cluster**.\n",
    "3. **Visualizar los resultados** para obtener insights útiles."
   ]
  },
  {
   "cell_type": "markdown",
   "metadata": {},
   "source": [
    "## 1.2. Descargar el Dataset\n",
    "\n",
    "Para este ejemplo práctico, utilizaremos el dataset de [clientes de un centro comercial](https://www.kaggle.com/datasets/vjchoudhary7/customer-segmentation-tutorial-in-python), que está disponible públicamente en Kaggle.\n",
    "\n",
    "Los datos que tenemos en este dataset son los siguientes:\n",
    "\n",
    "- **Identificador del cliente**: Un identificador único para cada cliente.\n",
    "- **Edad**: Edad del cliente.\n",
    "- **Género**: Género del cliente.\n",
    "- **Ingresos Anuales (k$)**: Los ingresos anuales en miles de dólares.\n",
    "- **Puntuación de Gasto (1-100)**: Una métrica de qué tan activamente gasta un cliente en el centro comercial.\n",
    "\n",
    "Para descargar el dataset, necesitas estar registrado en Kaggle. Para simplificar las cosas, he subido este dataset a una carpeta compartida de Google Drive, puedes descargarla ejecutando el código de abajo.\n",
    "\n",
    "\n",
    "> **Nota:** Si estás usando Google Colab, los archivos se descargan en tu equipo de manera temporal mientras dure la sesión en el entorno de ejecución, luego se borrarán y todo quedará limpio, si quieres guardarlos en tu sistema, tienes que descargarlos manualmente."
   ]
  },
  {
   "cell_type": "code",
   "execution_count": 6,
   "metadata": {},
   "outputs": [],
   "source": [
    "# Importar librerías\n",
    "\n",
    "import os\n",
    "import sys\n",
    "\n",
    "import pandas as pd\n"
   ]
  },
  {
   "cell_type": "code",
   "execution_count": 2,
   "metadata": {},
   "outputs": [],
   "source": [
    "# Detectar si estamos en Colab\n",
    "in_colab = 'google.colab' in str(get_ipython())\n",
    "\n",
    "if in_colab:\n",
    "    # Descargar el archivo helper_functions.py desde el repositorio de GitHub\n",
    "    !mkdir -p /content/utils # Creamos una carpeta utils para que coincida con la estructura del repositorio\n",
    "    !wget -O utils/helper_functions.py \"https://raw.githubusercontent.com/ManuelEspejo/Machine-Learning-Bases/main/utils/helper_functions.py\"\n",
    "    data_dir = '/content/data' # Ruta de los datos\n",
    "else:\n",
    "    # Agregar el directorio raíz al path de Python (Para ejecutar en local)\n",
    "    notebook_dir = os.path.dirname(os.path.abspath('__file__'))\n",
    "    project_dir = os.path.dirname(notebook_dir)\n",
    "    sys.path.append(project_dir)\n",
    "    data_dir = '../data/raw'"
   ]
  },
  {
   "cell_type": "code",
   "execution_count": 3,
   "metadata": {},
   "outputs": [
    {
     "name": "stdout",
     "output_type": "stream",
     "text": [
      "Descargando desde Google Drive...\n",
      "Tamaño del archivo ZIP: 1583 bytes\n",
      "Contenido del ZIP: ['Mall_Customers.csv']\n",
      "\n",
      "Archivos disponibles:\n",
      "- bike_buyers.csv (87182 bytes)\n",
      "- bike_buyers_clean.csv (86348 bytes)\n",
      "- CC GENERAL.csv (902879 bytes)\n",
      "- customer_feedback_satisfaction.csv (1963795 bytes)\n",
      "- Mall_Customers.csv (3981 bytes)\n"
     ]
    }
   ],
   "source": [
    "from utils.helper_functions import *  # noqa: F403\n",
    "\n",
    "# Descargamos los datos desde el enlace compartido de google Drive\n",
    "download_data('https://drive.google.com/uc?id=1J0xQpKr-UWiA7dxnIFfyOL0i9gR1wefd')"
   ]
  },
  {
   "cell_type": "code",
   "execution_count": 7,
   "metadata": {},
   "outputs": [
    {
     "data": {
      "text/html": [
       "<div>\n",
       "<style scoped>\n",
       "    .dataframe tbody tr th:only-of-type {\n",
       "        vertical-align: middle;\n",
       "    }\n",
       "\n",
       "    .dataframe tbody tr th {\n",
       "        vertical-align: top;\n",
       "    }\n",
       "\n",
       "    .dataframe thead th {\n",
       "        text-align: right;\n",
       "    }\n",
       "</style>\n",
       "<table border=\"1\" class=\"dataframe\">\n",
       "  <thead>\n",
       "    <tr style=\"text-align: right;\">\n",
       "      <th></th>\n",
       "      <th>CustomerID</th>\n",
       "      <th>Gender</th>\n",
       "      <th>Age</th>\n",
       "      <th>Annual Income (k$)</th>\n",
       "      <th>Spending Score (1-100)</th>\n",
       "    </tr>\n",
       "  </thead>\n",
       "  <tbody>\n",
       "    <tr>\n",
       "      <th>0</th>\n",
       "      <td>1</td>\n",
       "      <td>Male</td>\n",
       "      <td>19</td>\n",
       "      <td>15</td>\n",
       "      <td>39</td>\n",
       "    </tr>\n",
       "    <tr>\n",
       "      <th>1</th>\n",
       "      <td>2</td>\n",
       "      <td>Male</td>\n",
       "      <td>21</td>\n",
       "      <td>15</td>\n",
       "      <td>81</td>\n",
       "    </tr>\n",
       "    <tr>\n",
       "      <th>2</th>\n",
       "      <td>3</td>\n",
       "      <td>Female</td>\n",
       "      <td>20</td>\n",
       "      <td>16</td>\n",
       "      <td>6</td>\n",
       "    </tr>\n",
       "    <tr>\n",
       "      <th>3</th>\n",
       "      <td>4</td>\n",
       "      <td>Female</td>\n",
       "      <td>23</td>\n",
       "      <td>16</td>\n",
       "      <td>77</td>\n",
       "    </tr>\n",
       "    <tr>\n",
       "      <th>4</th>\n",
       "      <td>5</td>\n",
       "      <td>Female</td>\n",
       "      <td>31</td>\n",
       "      <td>17</td>\n",
       "      <td>40</td>\n",
       "    </tr>\n",
       "  </tbody>\n",
       "</table>\n",
       "</div>"
      ],
      "text/plain": [
       "   CustomerID  Gender  Age  Annual Income (k$)  Spending Score (1-100)\n",
       "0           1    Male   19                  15                      39\n",
       "1           2    Male   21                  15                      81\n",
       "2           3  Female   20                  16                       6\n",
       "3           4  Female   23                  16                      77\n",
       "4           5  Female   31                  17                      40"
      ]
     },
     "execution_count": 7,
     "metadata": {},
     "output_type": "execute_result"
    }
   ],
   "source": [
    "# Cargar el dataset\n",
    "data = pd.read_csv(data_dir + '/Mall_Customers.csv')\n",
    "\n",
    "# Mostrar las primeras filas del dataset\n",
    "data.head()"
   ]
  },
  {
   "cell_type": "markdown",
   "metadata": {},
   "source": [
    "En este dataset, dos variables destacan como especialmente relevantes para nuestro análisis de clustering:\n",
    "\n",
    "- **Annual Income (k$)**: Representa los ingresos anuales del cliente en miles de dólares. Esta variable nos ayuda a identificar diferentes niveles de capacidad adquisitiva.\n",
    "- **Spending Score (1-100)**: Una puntuación asignada a cada cliente basada en su comportamiento de gasto en el centro comercial. Muestra qué tan activamente invierte un cliente en productos o servicios.\n",
    "\n",
    "Juntas, estas variables nos permiten crear un mapa de segmentación basado en la capacidad económica y el comportamiento de consumo, dos pilares clave en la personalización de estrategias de marketing."
   ]
  },
  {
   "cell_type": "markdown",
   "metadata": {},
   "source": [
    "### **Comprobación Inicial del Dataset**\n",
    "\n",
    "Para entender mejor los datos, haremos una inspección rápida de su estructura y contenido:"
   ]
  },
  {
   "cell_type": "code",
   "execution_count": 11,
   "metadata": {},
   "outputs": [
    {
     "name": "stdout",
     "output_type": "stream",
     "text": [
      "Información general del dataset:\n",
      "<class 'pandas.core.frame.DataFrame'>\n",
      "RangeIndex: 200 entries, 0 to 199\n",
      "Data columns (total 5 columns):\n",
      " #   Column                  Non-Null Count  Dtype \n",
      "---  ------                  --------------  ----- \n",
      " 0   CustomerID              200 non-null    int64 \n",
      " 1   Gender                  200 non-null    object\n",
      " 2   Age                     200 non-null    int64 \n",
      " 3   Annual Income (k$)      200 non-null    int64 \n",
      " 4   Spending Score (1-100)  200 non-null    int64 \n",
      "dtypes: int64(4), object(1)\n",
      "memory usage: 7.9+ KB\n",
      "**************************************************\n",
      "Resumen estadístico de las columnas numéricas:\n",
      "       CustomerID         Age  Annual Income (k$)  Spending Score (1-100)\n",
      "count  200.000000  200.000000          200.000000              200.000000\n",
      "mean   100.500000   38.850000           60.560000               50.200000\n",
      "std     57.879185   13.969007           26.264721               25.823522\n",
      "min      1.000000   18.000000           15.000000                1.000000\n",
      "25%     50.750000   28.750000           41.500000               34.750000\n",
      "50%    100.500000   36.000000           61.500000               50.000000\n",
      "75%    150.250000   49.000000           78.000000               73.000000\n",
      "max    200.000000   70.000000          137.000000               99.000000\n",
      "**************************************************\n",
      "Valores faltantes por columna:\n",
      "CustomerID                0\n",
      "Gender                    0\n",
      "Age                       0\n",
      "Annual Income (k$)        0\n",
      "Spending Score (1-100)    0\n",
      "dtype: int64\n"
     ]
    }
   ],
   "source": [
    "# Información general del dataset\n",
    "print(\"Información general del dataset:\")\n",
    "data.info()\n",
    "print(\"*\" * 50)\n",
    "\n",
    "# Resumen estadístico de las columnas numéricas\n",
    "print(\"Resumen estadístico de las columnas numéricas:\")\n",
    "print(data.describe())\n",
    "print(\"*\" * 50)\n",
    "\n",
    "# Verificar si hay valores faltantes\n",
    "print(\"Valores faltantes por columna:\")\n",
    "print(data.isnull().sum())\n"
   ]
  },
  {
   "cell_type": "markdown",
   "metadata": {},
   "source": [
    "### Resumen de los datos\n",
    "\n",
    "- **Información General**"
   ]
  },
  {
   "cell_type": "code",
   "execution_count": null,
   "metadata": {},
   "outputs": [],
   "source": []
  }
 ],
 "metadata": {
  "kernelspec": {
   "display_name": "TallerML",
   "language": "python",
   "name": "python3"
  },
  "language_info": {
   "codemirror_mode": {
    "name": "ipython",
    "version": 3
   },
   "file_extension": ".py",
   "mimetype": "text/x-python",
   "name": "python",
   "nbconvert_exporter": "python",
   "pygments_lexer": "ipython3",
   "version": "3.10.15"
  }
 },
 "nbformat": 4,
 "nbformat_minor": 2
}
